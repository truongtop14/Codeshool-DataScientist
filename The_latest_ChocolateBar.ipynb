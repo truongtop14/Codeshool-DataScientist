{
  "nbformat": 4,
  "nbformat_minor": 0,
  "metadata": {
    "kernelspec": {
      "name": "python3",
      "display_name": "Python 3"
    },
    "language_info": {
      "codemirror_mode": {
        "name": "ipython",
        "version": 3
      },
      "file_extension": ".py",
      "mimetype": "text/x-python",
      "name": "python",
      "nbconvert_exporter": "python",
      "pygments_lexer": "ipython3",
      "version": "3.7.3"
    },
    "colab": {
      "name": "The latest ChocolateBar.ipynb",
      "version": "0.3.2",
      "provenance": [],
      "collapsed_sections": [],
      "include_colab_link": true
    },
    "accelerator": "GPU"
  },
  "cells": [
    {
      "cell_type": "markdown",
      "metadata": {
        "id": "view-in-github",
        "colab_type": "text"
      },
      "source": [
        "<a href=\"https://colab.research.google.com/github/truongtop14/Codeshool-DataScientist/blob/master/The_latest_ChocolateBar.ipynb\" target=\"_parent\"><img src=\"https://colab.research.google.com/assets/colab-badge.svg\" alt=\"Open In Colab\"/></a>"
      ]
    },
    {
      "cell_type": "markdown",
      "metadata": {
        "id": "iKp91mZMWSdc",
        "colab_type": "text"
      },
      "source": [
        "# Team 1 - Chocolate Bar\n",
        "\n",
        "![](https://img.newatlas.com/cocoa-tree-domestication-chocolate-1.jpg?auto=format%2Ccompress&ch=Width%2CDPR&fit=crop&h=347&q=60&rect=0%2C18%2C1620%2C911&w=616&s=2c0f902d21b734d77c99fd13171fb979)\n",
        "\n",
        "_For more information about the dataset, read [here](https://www.kaggle.com/rtatman/chocolate-bar-ratings)._\n",
        "\n",
        "## Your tasks\n",
        "- Name your team!\n",
        "- Read the source and do some quick research to understand more about the dataset and its topic\n",
        "- Clean the data\n",
        "- Perform Exploratory Data Analysis on the dataset\n",
        "- Analyze the data more deeply and extract insights\n",
        "- Visualize your analysis on Google Data Studio\n",
        "- Present your works in front of the class and guests next Monday\n",
        "\n",
        "## Submission Guide\n",
        "- Create a Github repository for your project\n",
        "- Upload the dataset (.csv file) and the Jupyter Notebook to your Github repository. In the Jupyter Notebook, **include the link to your Google Data Studio report**.\n",
        "- Submit your works through this [Google Form](https://forms.gle/oxtXpGfS8JapVj3V8).\n",
        "\n",
        "## Tips for Data Cleaning, Manipulation & Visualization\n",
        "- Here are some of our tips for Data Cleaning, Manipulation & Visualization. [Click here](https://hackmd.io/cBNV7E6TT2WMliQC-GTw1A)\n",
        "\n",
        "_____________________________\n",
        "\n",
        "## Some Hints for This Dataset:\n",
        "- There are lots of poorly labeled data in `Broad Bean Origin` column.\n",
        "- There are some rows in `Broad Bean Origin` with multiple values, those values will create errors in our data. \n",
        "- How can we get rid of the `%` sign in `Cocoa Percent` column?\n",
        "- And more..."
      ]
    },
    {
      "cell_type": "markdown",
      "metadata": {
        "id": "quZgb6UO24Bd",
        "colab_type": "text"
      },
      "source": [
        "# My solution"
      ]
    },
    {
      "cell_type": "markdown",
      "metadata": {
        "id": "a222nshv9rxD",
        "colab_type": "text"
      },
      "source": [
        "# 1. Import package"
      ]
    },
    {
      "cell_type": "code",
      "metadata": {
        "id": "yFRKJjMvWSdf",
        "colab_type": "code",
        "colab": {}
      },
      "source": [
        "import io\n",
        "import re\n",
        "\n",
        "import pandas as pd\n",
        "import numpy as np\n",
        "import seaborn as sns\n",
        "from matplotlib import pyplot as plt"
      ],
      "execution_count": 0,
      "outputs": []
    },
    {
      "cell_type": "code",
      "metadata": {
        "id": "sLjJq54ZZEKW",
        "colab_type": "code",
        "colab": {}
      },
      "source": [
        "link = 'https://raw.githubusercontent.com/nnbtam99/coderschool-ds-t2-t4/master/W04%20-%20Data%20manipulation%20%2B%20Visualization/01%20-%20Chocolate%20Bar%20Ratings/flavors_of_cacao.csv'\n",
        "\n",
        "df = pd.read_csv(link)"
      ],
      "execution_count": 0,
      "outputs": []
    },
    {
      "cell_type": "markdown",
      "metadata": {
        "id": "W7pL6c8TmFYV",
        "colab_type": "text"
      },
      "source": [
        "# 2. Data cleaning"
      ]
    },
    {
      "cell_type": "markdown",
      "metadata": {
        "id": "pYIfvCRZmJja",
        "colab_type": "text"
      },
      "source": [
        "## Normalize column names"
      ]
    },
    {
      "cell_type": "code",
      "metadata": {
        "id": "kYFJT9izywPw",
        "colab_type": "code",
        "colab": {}
      },
      "source": [
        "new_columns = ['company', 'specific_origin', 'REF', 'review_date', 'cocoa_percent', 'company_location', 'rating', 'bean_type', 'broad_origin']\n",
        "df.columns = new_columns"
      ],
      "execution_count": 0,
      "outputs": []
    },
    {
      "cell_type": "code",
      "metadata": {
        "id": "meMRBJE8zbaW",
        "colab_type": "code",
        "outputId": "67532b60-3871-45a7-b6c1-c5e0a618d1b1",
        "colab": {
          "base_uri": "https://localhost:8080/",
          "height": 328
        }
      },
      "source": [
        "df.head().T"
      ],
      "execution_count": 0,
      "outputs": [
        {
          "output_type": "execute_result",
          "data": {
            "text/html": [
              "<div>\n",
              "<style scoped>\n",
              "    .dataframe tbody tr th:only-of-type {\n",
              "        vertical-align: middle;\n",
              "    }\n",
              "\n",
              "    .dataframe tbody tr th {\n",
              "        vertical-align: top;\n",
              "    }\n",
              "\n",
              "    .dataframe thead th {\n",
              "        text-align: right;\n",
              "    }\n",
              "</style>\n",
              "<table border=\"1\" class=\"dataframe\">\n",
              "  <thead>\n",
              "    <tr style=\"text-align: right;\">\n",
              "      <th></th>\n",
              "      <th>0</th>\n",
              "      <th>1</th>\n",
              "      <th>2</th>\n",
              "      <th>3</th>\n",
              "      <th>4</th>\n",
              "    </tr>\n",
              "  </thead>\n",
              "  <tbody>\n",
              "    <tr>\n",
              "      <th>company</th>\n",
              "      <td>A. Morin</td>\n",
              "      <td>A. Morin</td>\n",
              "      <td>A. Morin</td>\n",
              "      <td>A. Morin</td>\n",
              "      <td>A. Morin</td>\n",
              "    </tr>\n",
              "    <tr>\n",
              "      <th>specific_origin</th>\n",
              "      <td>Agua Grande</td>\n",
              "      <td>Kpime</td>\n",
              "      <td>Atsane</td>\n",
              "      <td>Akata</td>\n",
              "      <td>Quilla</td>\n",
              "    </tr>\n",
              "    <tr>\n",
              "      <th>REF</th>\n",
              "      <td>1876</td>\n",
              "      <td>1676</td>\n",
              "      <td>1676</td>\n",
              "      <td>1680</td>\n",
              "      <td>1704</td>\n",
              "    </tr>\n",
              "    <tr>\n",
              "      <th>review_date</th>\n",
              "      <td>2016</td>\n",
              "      <td>2015</td>\n",
              "      <td>2015</td>\n",
              "      <td>2015</td>\n",
              "      <td>2015</td>\n",
              "    </tr>\n",
              "    <tr>\n",
              "      <th>cocoa_percent</th>\n",
              "      <td>63%</td>\n",
              "      <td>70%</td>\n",
              "      <td>70%</td>\n",
              "      <td>70%</td>\n",
              "      <td>70%</td>\n",
              "    </tr>\n",
              "    <tr>\n",
              "      <th>company_location</th>\n",
              "      <td>France</td>\n",
              "      <td>France</td>\n",
              "      <td>France</td>\n",
              "      <td>France</td>\n",
              "      <td>France</td>\n",
              "    </tr>\n",
              "    <tr>\n",
              "      <th>rating</th>\n",
              "      <td>3.75</td>\n",
              "      <td>2.75</td>\n",
              "      <td>3</td>\n",
              "      <td>3.5</td>\n",
              "      <td>3.5</td>\n",
              "    </tr>\n",
              "    <tr>\n",
              "      <th>bean_type</th>\n",
              "      <td></td>\n",
              "      <td></td>\n",
              "      <td></td>\n",
              "      <td></td>\n",
              "      <td></td>\n",
              "    </tr>\n",
              "    <tr>\n",
              "      <th>broad_origin</th>\n",
              "      <td>Sao Tome</td>\n",
              "      <td>Togo</td>\n",
              "      <td>Togo</td>\n",
              "      <td>Togo</td>\n",
              "      <td>Peru</td>\n",
              "    </tr>\n",
              "  </tbody>\n",
              "</table>\n",
              "</div>"
            ],
            "text/plain": [
              "                            0         1         2         3         4\n",
              "company              A. Morin  A. Morin  A. Morin  A. Morin  A. Morin\n",
              "specific_origin   Agua Grande     Kpime    Atsane     Akata    Quilla\n",
              "REF                      1876      1676      1676      1680      1704\n",
              "review_date              2016      2015      2015      2015      2015\n",
              "cocoa_percent             63%       70%       70%       70%       70%\n",
              "company_location       France    France    France    France    France\n",
              "rating                   3.75      2.75         3       3.5       3.5\n",
              "bean_type                                                            \n",
              "broad_origin         Sao Tome      Togo      Togo      Togo      Peru"
            ]
          },
          "metadata": {
            "tags": []
          },
          "execution_count": 213
        }
      ]
    },
    {
      "cell_type": "code",
      "metadata": {
        "id": "ja7GTikZ4e3V",
        "colab_type": "code",
        "outputId": "af81846d-77dd-4371-b761-5634fec717ac",
        "colab": {
          "base_uri": "https://localhost:8080/",
          "height": 255
        }
      },
      "source": [
        "df.info()"
      ],
      "execution_count": 0,
      "outputs": [
        {
          "output_type": "stream",
          "text": [
            "<class 'pandas.core.frame.DataFrame'>\n",
            "RangeIndex: 1795 entries, 0 to 1794\n",
            "Data columns (total 9 columns):\n",
            "company             1795 non-null object\n",
            "specific_origin     1795 non-null object\n",
            "REF                 1795 non-null int64\n",
            "review_date         1795 non-null int64\n",
            "cocoa_percent       1795 non-null object\n",
            "company_location    1795 non-null object\n",
            "rating              1795 non-null float64\n",
            "bean_type           1794 non-null object\n",
            "broad_origin        1794 non-null object\n",
            "dtypes: float64(1), int64(2), object(6)\n",
            "memory usage: 126.3+ KB\n"
          ],
          "name": "stdout"
        }
      ]
    },
    {
      "cell_type": "markdown",
      "metadata": {
        "id": "RRjvxtgN31Fo",
        "colab_type": "text"
      },
      "source": [
        "## Check each column to find poorly labeled data"
      ]
    },
    {
      "cell_type": "code",
      "metadata": {
        "id": "AdVlBQ7L33xd",
        "colab_type": "code",
        "outputId": "20b70c94-9d31-4160-971b-d579b67187aa",
        "colab": {
          "base_uri": "https://localhost:8080/",
          "height": 187
        }
      },
      "source": [
        "# As Bean_Type and Broad_Bean_Origin may be optional attributes, we accept NaN values for these features\n",
        "df.isna().sum()"
      ],
      "execution_count": 0,
      "outputs": [
        {
          "output_type": "execute_result",
          "data": {
            "text/plain": [
              "company             0\n",
              "specific_origin     0\n",
              "REF                 0\n",
              "review_date         0\n",
              "cocoa_percent       0\n",
              "company_location    0\n",
              "rating              0\n",
              "bean_type           1\n",
              "broad_origin        1\n",
              "dtype: int64"
            ]
          },
          "metadata": {
            "tags": []
          },
          "execution_count": 215
        }
      ]
    },
    {
      "cell_type": "markdown",
      "metadata": {
        "id": "1ciIjAwk2uY7",
        "colab_type": "text"
      },
      "source": [
        "### Check all values of each feature"
      ]
    },
    {
      "cell_type": "code",
      "metadata": {
        "id": "J5G2x_vm2nFa",
        "colab_type": "code",
        "outputId": "8a6ac324-4d8b-419b-d662-0a85722d4441",
        "colab": {
          "base_uri": "https://localhost:8080/",
          "height": 221
        }
      },
      "source": [
        "df['company_location'].sort_values().unique()\n",
        "\n",
        "# UK includes Ireland, Scotland, Wales and England, so the values are quite ambiguous --> Perhaps U.K in this context referes to England \n",
        "# Dominican Republic is mispelled\n",
        "# Nicaragua is mispelled\n",
        "# Amsterdam is a city of Netherlands, not a country --> So Amsterdam should be replaced with Netherlands"
      ],
      "execution_count": 0,
      "outputs": [
        {
          "output_type": "execute_result",
          "data": {
            "text/plain": [
              "array(['Amsterdam', 'Argentina', 'Australia', 'Austria', 'Belgium',\n",
              "       'Bolivia', 'Brazil', 'Canada', 'Chile', 'Colombia', 'Costa Rica',\n",
              "       'Czech Republic', 'Denmark', 'Domincan Republic', 'Ecuador',\n",
              "       'Eucador', 'Fiji', 'Finland', 'France', 'Germany', 'Ghana',\n",
              "       'Grenada', 'Guatemala', 'Honduras', 'Hungary', 'Iceland', 'India',\n",
              "       'Ireland', 'Israel', 'Italy', 'Japan', 'Lithuania', 'Madagascar',\n",
              "       'Martinique', 'Mexico', 'Netherlands', 'New Zealand', 'Niacragua',\n",
              "       'Nicaragua', 'Peru', 'Philippines', 'Poland', 'Portugal',\n",
              "       'Puerto Rico', 'Russia', 'Sao Tome', 'Scotland', 'Singapore',\n",
              "       'South Africa', 'South Korea', 'Spain', 'St. Lucia', 'Suriname',\n",
              "       'Sweden', 'Switzerland', 'U.K.', 'U.S.A.', 'Venezuela', 'Vietnam',\n",
              "       'Wales'], dtype=object)"
            ]
          },
          "metadata": {
            "tags": []
          },
          "execution_count": 216
        }
      ]
    },
    {
      "cell_type": "code",
      "metadata": {
        "id": "uyQV_dWoBAU2",
        "colab_type": "code",
        "outputId": "fdabd366-99a1-483d-91ee-4a95a6bccaa5",
        "colab": {
          "base_uri": "https://localhost:8080/",
          "height": 119
        }
      },
      "source": [
        "# This column datatype is object, which is quite unreasonable\n",
        "# I'll remove the '%' symbol and convert it to float \n",
        "df['cocoa_percent'].unique()"
      ],
      "execution_count": 0,
      "outputs": [
        {
          "output_type": "execute_result",
          "data": {
            "text/plain": [
              "array(['63%', '70%', '60%', '80%', '88%', '72%', '55%', '75%', '65%',\n",
              "       '85%', '73%', '64%', '66%', '68%', '50%', '100%', '77%', '90%',\n",
              "       '71%', '83%', '78%', '74%', '76%', '86%', '82%', '69%', '91%',\n",
              "       '42%', '61%', '73.5%', '62%', '67%', '58%', '60.5%', '79%', '81%',\n",
              "       '57%', '72.5%', '56%', '46%', '89%', '99%', '84%', '53%', '87%'],\n",
              "      dtype=object)"
            ]
          },
          "metadata": {
            "tags": []
          },
          "execution_count": 217
        }
      ]
    },
    {
      "cell_type": "code",
      "metadata": {
        "id": "95XabzyvSdn6",
        "colab_type": "code",
        "outputId": "2470efe4-7c07-400d-ce24-490a3b48a45c",
        "colab": {
          "base_uri": "https://localhost:8080/",
          "height": 272
        }
      },
      "source": [
        "# Check if bean_type has mispelled or missing values\n",
        "df['bean_type'].sort_values().unique()"
      ],
      "execution_count": 0,
      "outputs": [
        {
          "output_type": "execute_result",
          "data": {
            "text/plain": [
              "array(['Amazon', 'Amazon mix', 'Amazon, ICS', 'Beniano', 'Blend',\n",
              "       'Blend-Forastero,Criollo', 'CCN51', 'Criollo', 'Criollo (Amarru)',\n",
              "       'Criollo (Ocumare 61)', 'Criollo (Ocumare 67)',\n",
              "       'Criollo (Ocumare 77)', 'Criollo (Ocumare)', 'Criollo (Porcelana)',\n",
              "       'Criollo (Wild)', 'Criollo, +', 'Criollo, Forastero',\n",
              "       'Criollo, Trinitario', 'EET', 'Forastero', 'Forastero (Amelonado)',\n",
              "       'Forastero (Arriba)', 'Forastero (Arriba) ASS',\n",
              "       'Forastero (Arriba) ASSS', 'Forastero (Catongo)',\n",
              "       'Forastero (Nacional)', 'Forastero (Parazinho)',\n",
              "       'Forastero(Arriba, CCN)', 'Forastero, Trinitario', 'Matina',\n",
              "       'Nacional', 'Nacional (Arriba)', 'Trinitario',\n",
              "       'Trinitario (85% Criollo)', 'Trinitario (Amelonado)',\n",
              "       'Trinitario (Scavina)', 'Trinitario, Criollo',\n",
              "       'Trinitario, Forastero', 'Trinitario, Nacional',\n",
              "       'Trinitario, TCGA', '\\xa0', nan], dtype=object)"
            ]
          },
          "metadata": {
            "tags": []
          },
          "execution_count": 218
        }
      ]
    },
    {
      "cell_type": "code",
      "metadata": {
        "id": "DoMg_-aSUoFo",
        "colab_type": "code",
        "outputId": "fee7b1ac-2f13-43ed-dc07-937fc150d0b6",
        "colab": {
          "base_uri": "https://localhost:8080/",
          "height": 527
        }
      },
      "source": [
        "# Check if broad_origin has mispelled or missing values\n",
        "df['broad_origin'].sort_values().unique()"
      ],
      "execution_count": 0,
      "outputs": [
        {
          "output_type": "execute_result",
          "data": {
            "text/plain": [
              "array(['Africa, Carribean, C. Am.', 'Australia', 'Belize', 'Bolivia',\n",
              "       'Brazil', 'Burma', 'Cameroon', 'Carribean',\n",
              "       'Carribean(DR/Jam/Tri)', 'Central and S. America', 'Colombia',\n",
              "       'Colombia, Ecuador', 'Congo', 'Cost Rica, Ven', 'Costa Rica',\n",
              "       'Cuba', 'DR, Ecuador, Peru', 'Dom. Rep., Madagascar',\n",
              "       'Domincan Republic', 'Dominican Rep., Bali', 'Dominican Republic',\n",
              "       'Ecuador', 'Ecuador, Costa Rica', 'Ecuador, Mad., PNG',\n",
              "       'El Salvador', 'Fiji', 'Gabon', 'Ghana', 'Ghana & Madagascar',\n",
              "       'Ghana, Domin. Rep', 'Ghana, Panama, Ecuador',\n",
              "       'Gre., PNG, Haw., Haiti, Mad', 'Grenada',\n",
              "       'Guat., D.R., Peru, Mad., PNG', 'Guatemala', 'Haiti', 'Hawaii',\n",
              "       'Honduras', 'India', 'Indonesia', 'Indonesia, Ghana',\n",
              "       'Ivory Coast', 'Jamaica', 'Liberia', 'Mad., Java, PNG',\n",
              "       'Madagascar', 'Madagascar & Ecuador', 'Malaysia', 'Martinique',\n",
              "       'Mexico', 'Nicaragua', 'Nigeria', 'PNG, Vanuatu, Mad', 'Panama',\n",
              "       'Papua New Guinea', 'Peru', 'Peru(SMartin,Pangoa,nacional)',\n",
              "       'Peru, Belize', 'Peru, Dom. Rep', 'Peru, Ecuador',\n",
              "       'Peru, Ecuador, Venezuela', 'Peru, Mad., Dom. Rep.',\n",
              "       'Peru, Madagascar', 'Philippines', 'Principe', 'Puerto Rico',\n",
              "       'Samoa', 'Sao Tome', 'Sao Tome & Principe', 'Solomon Islands',\n",
              "       'South America', 'South America, Africa', 'Sri Lanka', 'St. Lucia',\n",
              "       'Suriname', 'Tanzania', 'Tobago', 'Togo', 'Trinidad',\n",
              "       'Trinidad, Ecuador', 'Trinidad, Tobago', 'Trinidad-Tobago',\n",
              "       'Uganda', 'Vanuatu', 'Ven, Bolivia, D.R.',\n",
              "       'Ven, Trinidad, Ecuador', 'Ven., Indonesia, Ecuad.',\n",
              "       'Ven., Trinidad, Mad.', 'Ven.,Ecu.,Peru,Nic.',\n",
              "       'Venez,Africa,Brasil,Peru,Mex', 'Venezuela',\n",
              "       'Venezuela, Carribean', 'Venezuela, Dom. Rep.', 'Venezuela, Ghana',\n",
              "       'Venezuela, Java', 'Venezuela, Trinidad', 'Venezuela/ Ghana',\n",
              "       'Vietnam', 'West Africa', '\\xa0', nan], dtype=object)"
            ]
          },
          "metadata": {
            "tags": []
          },
          "execution_count": 219
        }
      ]
    },
    {
      "cell_type": "markdown",
      "metadata": {
        "id": "FdaC5CU1CGis",
        "colab_type": "text"
      },
      "source": [
        "## Clean poorly labeled data"
      ]
    },
    {
      "cell_type": "markdown",
      "metadata": {
        "id": "uLGLvqS4aR8P",
        "colab_type": "text"
      },
      "source": [
        "#### Remove unicode space '\\xa0'"
      ]
    },
    {
      "cell_type": "code",
      "metadata": {
        "id": "NOW7AEYxieQi",
        "colab_type": "code",
        "colab": {}
      },
      "source": [
        "df.replace(u'\\xa0',u'', regex=True, inplace=True)"
      ],
      "execution_count": 0,
      "outputs": []
    },
    {
      "cell_type": "markdown",
      "metadata": {
        "id": "psqVlVejyg1Z",
        "colab_type": "text"
      },
      "source": [
        "#### Clean cocoa_percent column"
      ]
    },
    {
      "cell_type": "code",
      "metadata": {
        "id": "4PkrNDmR2_Hk",
        "colab_type": "code",
        "outputId": "e9f49aba-8aa2-4f1d-db1d-a7058a845e1e",
        "colab": {
          "base_uri": "https://localhost:8080/",
          "height": 187
        }
      },
      "source": [
        "df['cocoa_percent'] = [r.replace('%', '') for r in df['cocoa_percent']]\n",
        "df['cocoa_percent'] = df['cocoa_percent'].astype('float64')\n",
        "df.dtypes"
      ],
      "execution_count": 0,
      "outputs": [
        {
          "output_type": "execute_result",
          "data": {
            "text/plain": [
              "company              object\n",
              "specific_origin      object\n",
              "REF                   int64\n",
              "review_date           int64\n",
              "cocoa_percent       float64\n",
              "company_location     object\n",
              "rating              float64\n",
              "bean_type            object\n",
              "broad_origin         object\n",
              "dtype: object"
            ]
          },
          "metadata": {
            "tags": []
          },
          "execution_count": 221
        }
      ]
    },
    {
      "cell_type": "markdown",
      "metadata": {
        "id": "YspQS0rsXfIZ",
        "colab_type": "text"
      },
      "source": [
        "#### Clean company_location column"
      ]
    },
    {
      "cell_type": "code",
      "metadata": {
        "id": "ax9UqK2OXhhs",
        "colab_type": "code",
        "outputId": "9dfcf9d4-b905-4ec3-f692-9d31ff1ac7c1",
        "colab": {
          "base_uri": "https://localhost:8080/",
          "height": 221
        }
      },
      "source": [
        "# UK includes Ireland, Scotland, Wales and England, so the values are quite ambiguous --> Perhaps U.K in this context referes to England \n",
        "# Dominican Republic is mispelled\n",
        "# Nicaragua is mispelled\n",
        "# Amsterdam is a city of Netherlands, not a country --> So Amsterdam should be replaced with Netherlands\n",
        "\n",
        "\n",
        "df['company_location'] = df['company_location']\\\n",
        "  .replace('U.K.', 'England')\\\n",
        "  .replace('Domincan Republic', 'Dominican Republic')\\\n",
        "  .replace('Niacragua', 'Nicaragua')\\\n",
        "  .replace('Amsterdam', 'Netherlands')\n",
        "\n",
        "df['company_location'].sort_values().unique()"
      ],
      "execution_count": 0,
      "outputs": [
        {
          "output_type": "execute_result",
          "data": {
            "text/plain": [
              "array(['Argentina', 'Australia', 'Austria', 'Belgium', 'Bolivia',\n",
              "       'Brazil', 'Canada', 'Chile', 'Colombia', 'Costa Rica',\n",
              "       'Czech Republic', 'Denmark', 'Dominican Republic', 'Ecuador',\n",
              "       'England', 'Eucador', 'Fiji', 'Finland', 'France', 'Germany',\n",
              "       'Ghana', 'Grenada', 'Guatemala', 'Honduras', 'Hungary', 'Iceland',\n",
              "       'India', 'Ireland', 'Israel', 'Italy', 'Japan', 'Lithuania',\n",
              "       'Madagascar', 'Martinique', 'Mexico', 'Netherlands', 'New Zealand',\n",
              "       'Nicaragua', 'Peru', 'Philippines', 'Poland', 'Portugal',\n",
              "       'Puerto Rico', 'Russia', 'Sao Tome', 'Scotland', 'Singapore',\n",
              "       'South Africa', 'South Korea', 'Spain', 'St. Lucia', 'Suriname',\n",
              "       'Sweden', 'Switzerland', 'U.S.A.', 'Venezuela', 'Vietnam', 'Wales'],\n",
              "      dtype=object)"
            ]
          },
          "metadata": {
            "tags": []
          },
          "execution_count": 222
        }
      ]
    },
    {
      "cell_type": "markdown",
      "metadata": {
        "id": "CxeZNh6sN0CC",
        "colab_type": "text"
      },
      "source": [
        "#### Clean broad_origin column"
      ]
    },
    {
      "cell_type": "code",
      "metadata": {
        "id": "yb5pB6W1cp6x",
        "colab_type": "code",
        "outputId": "f09aa257-b6e5-40cc-c08f-b048c68d3eb3",
        "colab": {
          "base_uri": "https://localhost:8080/",
          "height": 359
        }
      },
      "source": [
        "# nan is numpy datatype --> fillna before applying text_processing\n",
        "# Some specific origins are blend-type --> I'll check if blend-type denote something about the broad origin\n",
        "\n",
        "df[df['specific_origin'].str.contains('Blend')].head(10)"
      ],
      "execution_count": 0,
      "outputs": [
        {
          "output_type": "execute_result",
          "data": {
            "text/html": [
              "<div>\n",
              "<style scoped>\n",
              "    .dataframe tbody tr th:only-of-type {\n",
              "        vertical-align: middle;\n",
              "    }\n",
              "\n",
              "    .dataframe tbody tr th {\n",
              "        vertical-align: top;\n",
              "    }\n",
              "\n",
              "    .dataframe thead th {\n",
              "        text-align: right;\n",
              "    }\n",
              "</style>\n",
              "<table border=\"1\" class=\"dataframe\">\n",
              "  <thead>\n",
              "    <tr style=\"text-align: right;\">\n",
              "      <th></th>\n",
              "      <th>company</th>\n",
              "      <th>specific_origin</th>\n",
              "      <th>REF</th>\n",
              "      <th>review_date</th>\n",
              "      <th>cocoa_percent</th>\n",
              "      <th>company_location</th>\n",
              "      <th>rating</th>\n",
              "      <th>bean_type</th>\n",
              "      <th>broad_origin</th>\n",
              "    </tr>\n",
              "  </thead>\n",
              "  <tbody>\n",
              "    <tr>\n",
              "      <th>277</th>\n",
              "      <td>Burnt Fork Bend</td>\n",
              "      <td>Blend</td>\n",
              "      <td>1303</td>\n",
              "      <td>2014</td>\n",
              "      <td>72.0</td>\n",
              "      <td>U.S.A.</td>\n",
              "      <td>3.25</td>\n",
              "      <td>Blend</td>\n",
              "      <td></td>\n",
              "    </tr>\n",
              "    <tr>\n",
              "      <th>381</th>\n",
              "      <td>Chloe Chocolat</td>\n",
              "      <td>Blend No. 1</td>\n",
              "      <td>672</td>\n",
              "      <td>2011</td>\n",
              "      <td>70.0</td>\n",
              "      <td>France</td>\n",
              "      <td>3.50</td>\n",
              "      <td></td>\n",
              "      <td></td>\n",
              "    </tr>\n",
              "    <tr>\n",
              "      <th>393</th>\n",
              "      <td>Chocolate Alchemist-Philly</td>\n",
              "      <td>Philly Blend, 5 plantations</td>\n",
              "      <td>1772</td>\n",
              "      <td>2016</td>\n",
              "      <td>80.0</td>\n",
              "      <td>U.S.A.</td>\n",
              "      <td>2.50</td>\n",
              "      <td></td>\n",
              "      <td></td>\n",
              "    </tr>\n",
              "    <tr>\n",
              "      <th>564</th>\n",
              "      <td>Domori</td>\n",
              "      <td>Blend No. 1</td>\n",
              "      <td>272</td>\n",
              "      <td>2008</td>\n",
              "      <td>78.0</td>\n",
              "      <td>Italy</td>\n",
              "      <td>3.50</td>\n",
              "      <td>Blend</td>\n",
              "      <td></td>\n",
              "    </tr>\n",
              "    <tr>\n",
              "      <th>725</th>\n",
              "      <td>Fruition</td>\n",
              "      <td>Signature Blend</td>\n",
              "      <td>753</td>\n",
              "      <td>2011</td>\n",
              "      <td>66.0</td>\n",
              "      <td>U.S.A.</td>\n",
              "      <td>3.25</td>\n",
              "      <td>Trinitario</td>\n",
              "      <td>Costa Rica</td>\n",
              "    </tr>\n",
              "    <tr>\n",
              "      <th>747</th>\n",
              "      <td>Guido Castagna</td>\n",
              "      <td>Lacri Blend</td>\n",
              "      <td>355</td>\n",
              "      <td>2009</td>\n",
              "      <td>76.0</td>\n",
              "      <td>Italy</td>\n",
              "      <td>3.00</td>\n",
              "      <td></td>\n",
              "      <td>Venezuela</td>\n",
              "    </tr>\n",
              "    <tr>\n",
              "      <th>748</th>\n",
              "      <td>Guido Castagna</td>\n",
              "      <td>Blend</td>\n",
              "      <td>355</td>\n",
              "      <td>2009</td>\n",
              "      <td>64.0</td>\n",
              "      <td>Italy</td>\n",
              "      <td>3.25</td>\n",
              "      <td></td>\n",
              "      <td>Ven, Trinidad, Ecuador</td>\n",
              "    </tr>\n",
              "    <tr>\n",
              "      <th>749</th>\n",
              "      <td>Guittard</td>\n",
              "      <td>Epique, Blend No. 49</td>\n",
              "      <td>1602</td>\n",
              "      <td>2015</td>\n",
              "      <td>70.0</td>\n",
              "      <td>U.S.A.</td>\n",
              "      <td>3.75</td>\n",
              "      <td></td>\n",
              "      <td></td>\n",
              "    </tr>\n",
              "    <tr>\n",
              "      <th>785</th>\n",
              "      <td>Harper Macaw</td>\n",
              "      <td>Brazil Blend</td>\n",
              "      <td>1696</td>\n",
              "      <td>2015</td>\n",
              "      <td>67.0</td>\n",
              "      <td>U.S.A.</td>\n",
              "      <td>3.00</td>\n",
              "      <td></td>\n",
              "      <td>Brazil</td>\n",
              "    </tr>\n",
              "    <tr>\n",
              "      <th>957</th>\n",
              "      <td>L'Amourette</td>\n",
              "      <td>Blend</td>\n",
              "      <td>853</td>\n",
              "      <td>2012</td>\n",
              "      <td>72.0</td>\n",
              "      <td>U.S.A.</td>\n",
              "      <td>3.00</td>\n",
              "      <td>Criollo</td>\n",
              "      <td>Peru, Ecuador, Venezuela</td>\n",
              "    </tr>\n",
              "  </tbody>\n",
              "</table>\n",
              "</div>"
            ],
            "text/plain": [
              "                        company  ...              broad_origin\n",
              "277             Burnt Fork Bend  ...                          \n",
              "381              Chloe Chocolat  ...                          \n",
              "393  Chocolate Alchemist-Philly  ...                          \n",
              "564                      Domori  ...                          \n",
              "725                    Fruition  ...                Costa Rica\n",
              "747              Guido Castagna  ...                 Venezuela\n",
              "748              Guido Castagna  ...    Ven, Trinidad, Ecuador\n",
              "749                    Guittard  ...                          \n",
              "785                Harper Macaw  ...                    Brazil\n",
              "957                 L'Amourette  ...  Peru, Ecuador, Venezuela\n",
              "\n",
              "[10 rows x 9 columns]"
            ]
          },
          "metadata": {
            "tags": []
          },
          "execution_count": 223
        }
      ]
    },
    {
      "cell_type": "code",
      "metadata": {
        "id": "8xQvhjdvks6g",
        "colab_type": "code",
        "colab": {}
      },
      "source": [
        "# As we can guess, if a kind of chocolate derives from too many countries, its broad origin will be missing\n",
        "# Hence I'll fill missing broad_origin with its specific origin\n",
        "df['broad_origin'].fillna(df['specific_origin'], inplace = True)"
      ],
      "execution_count": 0,
      "outputs": []
    },
    {
      "cell_type": "code",
      "metadata": {
        "id": "BiEtgZO3mcsC",
        "colab_type": "code",
        "outputId": "3b1e0e8a-5568-41f2-a87e-a91e48422f20",
        "colab": {
          "base_uri": "https://localhost:8080/",
          "height": 527
        }
      },
      "source": [
        "df['broad_origin'].sort_values().unique()"
      ],
      "execution_count": 0,
      "outputs": [
        {
          "output_type": "execute_result",
          "data": {
            "text/plain": [
              "array(['', 'Africa, Carribean, C. Am.', 'Australia', 'Belize', 'Bolivia',\n",
              "       'Brazil', 'Burma', 'Cameroon', 'Carribean',\n",
              "       'Carribean(DR/Jam/Tri)', 'Central and S. America', 'Colombia',\n",
              "       'Colombia, Ecuador', 'Congo', 'Cost Rica, Ven', 'Costa Rica',\n",
              "       'Cuba', 'DR, Ecuador, Peru', 'Dom. Rep., Madagascar',\n",
              "       'Domincan Republic', 'Dominican Rep., Bali', 'Dominican Republic',\n",
              "       'Ecuador', 'Ecuador, Costa Rica', 'Ecuador, Mad., PNG',\n",
              "       'El Salvador', 'Fiji', 'Gabon', 'Ghana', 'Ghana & Madagascar',\n",
              "       'Ghana, Domin. Rep', 'Ghana, Panama, Ecuador',\n",
              "       'Gre., PNG, Haw., Haiti, Mad', 'Grenada',\n",
              "       'Guat., D.R., Peru, Mad., PNG', 'Guatemala', 'Haiti', 'Hawaii',\n",
              "       'Honduras', 'India', 'Indonesia', 'Indonesia, Ghana',\n",
              "       'Ivory Coast', 'Jamaica', 'Liberia', 'Mad., Java, PNG',\n",
              "       'Madagascar', 'Madagascar & Ecuador', 'Malaysia', 'Martinique',\n",
              "       'Mexico', 'Nicaragua', 'Nigeria', 'PNG, Vanuatu, Mad', 'Panama',\n",
              "       'Papua New Guinea', 'Peru', 'Peru(SMartin,Pangoa,nacional)',\n",
              "       'Peru, Belize', 'Peru, Dom. Rep', 'Peru, Ecuador',\n",
              "       'Peru, Ecuador, Venezuela', 'Peru, Mad., Dom. Rep.',\n",
              "       'Peru, Madagascar', 'Philippines', 'Principe', 'Puerto Rico',\n",
              "       'Samoa', 'Sao Tome', 'Sao Tome & Principe', 'Solomon Islands',\n",
              "       'South America', 'South America, Africa', 'Sri Lanka', 'St. Lucia',\n",
              "       'Suriname', 'Tanzania', 'Tobago', 'Togo', 'Trinidad',\n",
              "       'Trinidad, Ecuador', 'Trinidad, Tobago', 'Trinidad-Tobago',\n",
              "       'Uganda', 'Vanuatu', 'Ven, Bolivia, D.R.',\n",
              "       'Ven, Trinidad, Ecuador', 'Ven., Indonesia, Ecuad.',\n",
              "       'Ven., Trinidad, Mad.', 'Ven.,Ecu.,Peru,Nic.',\n",
              "       'Venez,Africa,Brasil,Peru,Mex', 'Venezuela',\n",
              "       'Venezuela, Carribean', 'Venezuela, Dom. Rep.', 'Venezuela, Ghana',\n",
              "       'Venezuela, Java', 'Venezuela, Trinidad', 'Venezuela/ Ghana',\n",
              "       'Vietnam', 'West Africa'], dtype=object)"
            ]
          },
          "metadata": {
            "tags": []
          },
          "execution_count": 225
        }
      ]
    },
    {
      "cell_type": "code",
      "metadata": {
        "id": "fZY8ltkdONEn",
        "colab_type": "code",
        "colab": {}
      },
      "source": [
        "# Many countries are refered by different names and abbreviations\n",
        "# Eg: Dominican Republic is Dominican Rep., DR, D.R., Domin. Rep, etc\n",
        "# Modify so that every country will be refered with just 1 name\n",
        "\n",
        "def text_prep(text):\n",
        "    replacements = {\n",
        "        '-':', ', '/ ': ', ', '/': ', ', '\\(': ', ',' and':', ', ' & ': ', ', '\\)': '',\n",
        "        'Dom Rep|DR|Domin Rep|Dominican Rep,|Domincan Republic':'Dominican Republic',\n",
        "        'Mad,|Mad$':'Madagascar, ',\n",
        "        'PNG': 'Papua New Guinea, ',\n",
        "        'Guat,|Guat$': 'Guatemala, ',\n",
        "        'Ven,|Ven$|Venez,|Venez$':'Venezuela, ',\n",
        "        'Ecu,|Ecu$|Ecuad,|Ecuad$': 'Ecuador, ',\n",
        "        'Nic,|Nic$': 'Nicaragua, ',\n",
        "        'Cost Rica':'Costa Rica',\n",
        "        'Mex,|Mex$': 'Mexico, ',\n",
        "        'Jam,|Jam$': 'Jamaica, ',\n",
        "        'Haw,|Haw$': 'Hawaii, ',\n",
        "        'Gre,|Gre$': 'Greneda, ',\n",
        "        'Tri,|Tri$': 'Trinidad, ',\n",
        "        'C Am':'Central America',\n",
        "        'S America':'South America',\n",
        "        ', $':'', ',  ': ', ', ', ,':', ', '\\xa0':' ',',\\s+': ',',\n",
        "        ' Bali': ',Bali',\n",
        "        'nacional': 'Nacional'\n",
        "    }\n",
        "    \n",
        "    for k, v in replacements.items():\n",
        "      text = re.sub(k, v, text)\n",
        "\n",
        "    return text"
      ],
      "execution_count": 0,
      "outputs": []
    },
    {
      "cell_type": "code",
      "metadata": {
        "id": "4tibTtDBapf3",
        "colab_type": "code",
        "outputId": "e1e48763-d5d8-4d57-df78-5437930049a9",
        "colab": {
          "base_uri": "https://localhost:8080/",
          "height": 578
        }
      },
      "source": [
        "df['broad_origin'].str.replace('.', '').apply(text_prep).sort_values().unique()"
      ],
      "execution_count": 0,
      "outputs": [
        {
          "output_type": "execute_result",
          "data": {
            "text/plain": [
              "array(['', 'Africa,Carribean,Central America', 'Australia', 'Belize',\n",
              "       'Bolivia', 'Brazil', 'Burma', 'Cameroon', 'Carribean',\n",
              "       'Carribean,Dominican Republic,Jamaica,Trinidad',\n",
              "       'Central,South America', 'Colombia', 'Colombia,Ecuador', 'Congo',\n",
              "       'Costa Rica', 'Costa Rica,Venezuela', 'Cuba', 'Dominican Republic',\n",
              "       'Dominican Republic,Bali', 'Dominican Republic,Ecuador,Peru',\n",
              "       'Dominican Republic,Madagascar', 'Ecuador', 'Ecuador,Costa Rica',\n",
              "       'Ecuador,Madagascar,Papua New Guinea', 'El Salvador', 'Fiji',\n",
              "       'Gabon', 'Ghana', 'Ghana,Dominican Republic', 'Ghana,Madagascar',\n",
              "       'Ghana,Panama,Ecuador', 'Grenada',\n",
              "       'Greneda,Papua New Guinea,Hawaii,Haiti,Madagascar', 'Guatemala',\n",
              "       'Guatemala,Dominican Republic,Peru,Madagascar,Papua New Guinea',\n",
              "       'Haiti', 'Hawaii', 'Honduras', 'India', 'Indonesia',\n",
              "       'Indonesia,Ghana', 'Ivory Coast', 'Jamaica', 'Liberia',\n",
              "       'Madagascar', 'Madagascar,Ecuador',\n",
              "       'Madagascar,Java,Papua New Guinea', 'Malaysia', 'Martinique',\n",
              "       'Mexico', 'Nicaragua', 'Nigeria', 'Panama', 'Papua New Guinea',\n",
              "       'Papua New Guinea,Vanuatu,Madagascar', 'Peru', 'Peru,Belize',\n",
              "       'Peru,Dominican Republic', 'Peru,Ecuador',\n",
              "       'Peru,Ecuador,Venezuela', 'Peru,Madagascar',\n",
              "       'Peru,Madagascar,Dominican Republic',\n",
              "       'Peru,SMartin,Pangoa,Nacional', 'Philippines', 'Principe',\n",
              "       'Puerto Rico', 'Samoa', 'Sao Tome', 'Sao Tome,Principe',\n",
              "       'Solomon Islands', 'South America', 'South America,Africa',\n",
              "       'Sri Lanka', 'St Lucia', 'Suriname', 'Tanzania', 'Tobago', 'Togo',\n",
              "       'Trinidad', 'Trinidad,Ecuador', 'Trinidad,Tobago', 'Uganda',\n",
              "       'Vanuatu', 'Venezuela', 'Venezuela,Africa,Brasil,Peru,Mexico',\n",
              "       'Venezuela,Bolivia,Dominican Republic', 'Venezuela,Carribean',\n",
              "       'Venezuela,Dominican Republic', 'Venezuela,Ecuador,Peru,Nicaragua',\n",
              "       'Venezuela,Ghana', 'Venezuela,Indonesia,Ecuador', 'Venezuela,Java',\n",
              "       'Venezuela,Trinidad', 'Venezuela,Trinidad,Ecuador',\n",
              "       'Venezuela,Trinidad,Madagascar', 'Vietnam', 'West Africa'],\n",
              "      dtype=object)"
            ]
          },
          "metadata": {
            "tags": []
          },
          "execution_count": 227
        }
      ]
    },
    {
      "cell_type": "code",
      "metadata": {
        "id": "s349dnD9eNx5",
        "colab_type": "code",
        "colab": {}
      },
      "source": [
        "df['broad_origin'] = df['broad_origin'].str.replace('.', '').apply(text_prep)"
      ],
      "execution_count": 0,
      "outputs": []
    },
    {
      "cell_type": "code",
      "metadata": {
        "id": "9ovTJn5eXY1N",
        "colab_type": "code",
        "outputId": "3cf1a36c-811c-4224-d114-b1d1bb8e9579",
        "colab": {
          "base_uri": "https://localhost:8080/",
          "height": 629
        }
      },
      "source": [
        "df.broad_origin.unique()"
      ],
      "execution_count": 0,
      "outputs": [
        {
          "output_type": "execute_result",
          "data": {
            "text/plain": [
              "array(['Sao Tome', 'Togo', 'Peru', 'Venezuela', 'Cuba', 'Panama',\n",
              "       'Madagascar', 'Brazil', 'Ecuador', 'Colombia', 'Burma',\n",
              "       'Papua New Guinea', 'Bolivia', 'Fiji', 'Mexico', 'Indonesia',\n",
              "       'Trinidad', 'Vietnam', 'Nicaragua', 'Tanzania',\n",
              "       'Dominican Republic', 'Ghana', 'Belize', '', 'Jamaica', 'Grenada',\n",
              "       'Guatemala', 'Honduras', 'Costa Rica', 'Haiti', 'Congo',\n",
              "       'Philippines', 'Malaysia', 'Dominican Republic,Bali',\n",
              "       'Venezuela,Africa,Brasil,Peru,Mexico', 'Gabon', 'Ivory Coast',\n",
              "       'Carribean', 'Sri Lanka', 'Puerto Rico', 'Uganda', 'Martinique',\n",
              "       'Sao Tome,Principe', 'Vanuatu', 'Australia', 'Liberia',\n",
              "       'Ecuador,Costa Rica', 'West Africa', 'Hawaii', 'St Lucia',\n",
              "       'Costa Rica,Venezuela', 'Peru,Madagascar', 'Venezuela,Trinidad',\n",
              "       'Trinidad,Tobago', 'Venezuela,Trinidad,Ecuador',\n",
              "       'South America,Africa', 'India',\n",
              "       'Africa,Carribean,Central America', 'Tobago',\n",
              "       'Venezuela,Indonesia,Ecuador', 'Peru,Ecuador,Venezuela',\n",
              "       'Venezuela,Dominican Republic', 'Colombia,Ecuador',\n",
              "       'Solomon Islands', 'Nigeria', 'Peru,Belize',\n",
              "       'Peru,Madagascar,Dominican Republic',\n",
              "       'Papua New Guinea,Vanuatu,Madagascar', 'El Salvador',\n",
              "       'South America', 'Samoa', 'Ghana,Dominican Republic',\n",
              "       'Trinidad,Ecuador', 'Cameroon', 'Venezuela,Java',\n",
              "       'Venezuela,Ghana', 'Indonesia,Ghana',\n",
              "       'Peru,SMartin,Pangoa,Nacional', 'Principe',\n",
              "       'Central,South America', 'Venezuela,Trinidad,Madagascar',\n",
              "       'Carribean,Dominican Republic,Jamaica,Trinidad',\n",
              "       'Ghana,Madagascar', 'Venezuela,Ecuador,Peru,Nicaragua',\n",
              "       'Madagascar,Ecuador',\n",
              "       'Guatemala,Dominican Republic,Peru,Madagascar,Papua New Guinea',\n",
              "       'Peru,Dominican Republic', 'Dominican Republic,Madagascar',\n",
              "       'Greneda,Papua New Guinea,Hawaii,Haiti,Madagascar',\n",
              "       'Madagascar,Java,Papua New Guinea',\n",
              "       'Venezuela,Bolivia,Dominican Republic',\n",
              "       'Dominican Republic,Ecuador,Peru', 'Suriname', 'Peru,Ecuador',\n",
              "       'Ecuador,Madagascar,Papua New Guinea', 'Ghana,Panama,Ecuador',\n",
              "       'Venezuela,Carribean'], dtype=object)"
            ]
          },
          "metadata": {
            "tags": []
          },
          "execution_count": 229
        }
      ]
    },
    {
      "cell_type": "markdown",
      "metadata": {
        "id": "FqLtOR5-2f8u",
        "colab_type": "text"
      },
      "source": [
        "##Save root data after cleaning to csv"
      ]
    },
    {
      "cell_type": "code",
      "metadata": {
        "id": "NzacEEPQ25vf",
        "colab_type": "code",
        "colab": {}
      },
      "source": [
        "# from google.colab import drive\n",
        "# drive.mount('/content/drive')"
      ],
      "execution_count": 0,
      "outputs": []
    },
    {
      "cell_type": "code",
      "metadata": {
        "id": "V8C9OkaI3EF2",
        "colab_type": "code",
        "colab": {}
      },
      "source": [
        "# %cd '/content/drive/My Drive/CoderSchool/Chocolate'"
      ],
      "execution_count": 0,
      "outputs": []
    },
    {
      "cell_type": "code",
      "metadata": {
        "id": "9kt1oj053JZG",
        "colab_type": "code",
        "colab": {}
      },
      "source": [
        "# df.to_csv('chocolate.csv', index=False)"
      ],
      "execution_count": 0,
      "outputs": []
    },
    {
      "cell_type": "code",
      "metadata": {
        "id": "8wY8tKO44Rqy",
        "colab_type": "code",
        "colab": {}
      },
      "source": [
        "# df.review_date.head(2)"
      ],
      "execution_count": 0,
      "outputs": []
    },
    {
      "cell_type": "markdown",
      "metadata": {
        "id": "ATIcZaeag5yD",
        "colab_type": "text"
      },
      "source": [
        "##Convert broad_origins to list"
      ]
    },
    {
      "cell_type": "code",
      "metadata": {
        "id": "RhcEfehBXpNN",
        "colab_type": "code",
        "colab": {}
      },
      "source": [
        "def split_places(origin):\n",
        "  return origin.split(',')\n",
        "\n",
        "broad_origins = df.broad_origin.apply(split_places)"
      ],
      "execution_count": 0,
      "outputs": []
    },
    {
      "cell_type": "code",
      "metadata": {
        "id": "UCK6ZuT_YSsk",
        "colab_type": "code",
        "colab": {}
      },
      "source": [
        "### get list of broad origins:\n",
        "def get_broad_origins_list(origins_series):\n",
        "  origins = {}\n",
        "  for ls in origins_series.values:\n",
        "    for origin in ls:\n",
        "      if origin not in origins:\n",
        "        origins.update({origin : 1})\n",
        "      else:\n",
        "        origins[origin]+=1\n",
        "  return origins\n",
        "\n",
        "unique_broad_origins = get_broad_origins_list(broad_origins)"
      ],
      "execution_count": 0,
      "outputs": []
    },
    {
      "cell_type": "code",
      "metadata": {
        "id": "wnVHoJZihlxW",
        "colab_type": "code",
        "outputId": "8c2fec09-b7cd-42be-e56f-dba4dcff9c45",
        "colab": {
          "base_uri": "https://localhost:8080/",
          "height": 204
        }
      },
      "source": [
        "origin_df = pd.DataFrame.from_dict(unique_broad_origins, orient='index', columns=['count'])\n",
        "origin_df.head()"
      ],
      "execution_count": 0,
      "outputs": [
        {
          "output_type": "execute_result",
          "data": {
            "text/html": [
              "<div>\n",
              "<style scoped>\n",
              "    .dataframe tbody tr th:only-of-type {\n",
              "        vertical-align: middle;\n",
              "    }\n",
              "\n",
              "    .dataframe tbody tr th {\n",
              "        vertical-align: top;\n",
              "    }\n",
              "\n",
              "    .dataframe thead th {\n",
              "        text-align: right;\n",
              "    }\n",
              "</style>\n",
              "<table border=\"1\" class=\"dataframe\">\n",
              "  <thead>\n",
              "    <tr style=\"text-align: right;\">\n",
              "      <th></th>\n",
              "      <th>count</th>\n",
              "    </tr>\n",
              "  </thead>\n",
              "  <tbody>\n",
              "    <tr>\n",
              "      <th>Sao Tome</th>\n",
              "      <td>17</td>\n",
              "    </tr>\n",
              "    <tr>\n",
              "      <th>Togo</th>\n",
              "      <td>3</td>\n",
              "    </tr>\n",
              "    <tr>\n",
              "      <th>Peru</th>\n",
              "      <td>176</td>\n",
              "    </tr>\n",
              "    <tr>\n",
              "      <th>Venezuela</th>\n",
              "      <td>228</td>\n",
              "    </tr>\n",
              "    <tr>\n",
              "      <th>Cuba</th>\n",
              "      <td>11</td>\n",
              "    </tr>\n",
              "  </tbody>\n",
              "</table>\n",
              "</div>"
            ],
            "text/plain": [
              "           count\n",
              "Sao Tome      17\n",
              "Togo           3\n",
              "Peru         176\n",
              "Venezuela    228\n",
              "Cuba          11"
            ]
          },
          "metadata": {
            "tags": []
          },
          "execution_count": 236
        }
      ]
    },
    {
      "cell_type": "code",
      "metadata": {
        "id": "DM7qZqYvlpil",
        "colab_type": "code",
        "outputId": "0bcc4a31-bc58-4a0c-dd5b-da808ada6c13",
        "colab": {
          "base_uri": "https://localhost:8080/",
          "height": 204
        }
      },
      "source": [
        "origin_df.reset_index(drop=False, inplace=True);\n",
        "origin_df.rename(columns={'index':'country'}, inplace=True);\n",
        "origin_df.head()\n"
      ],
      "execution_count": 0,
      "outputs": [
        {
          "output_type": "execute_result",
          "data": {
            "text/html": [
              "<div>\n",
              "<style scoped>\n",
              "    .dataframe tbody tr th:only-of-type {\n",
              "        vertical-align: middle;\n",
              "    }\n",
              "\n",
              "    .dataframe tbody tr th {\n",
              "        vertical-align: top;\n",
              "    }\n",
              "\n",
              "    .dataframe thead th {\n",
              "        text-align: right;\n",
              "    }\n",
              "</style>\n",
              "<table border=\"1\" class=\"dataframe\">\n",
              "  <thead>\n",
              "    <tr style=\"text-align: right;\">\n",
              "      <th></th>\n",
              "      <th>country</th>\n",
              "      <th>count</th>\n",
              "    </tr>\n",
              "  </thead>\n",
              "  <tbody>\n",
              "    <tr>\n",
              "      <th>0</th>\n",
              "      <td>Sao Tome</td>\n",
              "      <td>17</td>\n",
              "    </tr>\n",
              "    <tr>\n",
              "      <th>1</th>\n",
              "      <td>Togo</td>\n",
              "      <td>3</td>\n",
              "    </tr>\n",
              "    <tr>\n",
              "      <th>2</th>\n",
              "      <td>Peru</td>\n",
              "      <td>176</td>\n",
              "    </tr>\n",
              "    <tr>\n",
              "      <th>3</th>\n",
              "      <td>Venezuela</td>\n",
              "      <td>228</td>\n",
              "    </tr>\n",
              "    <tr>\n",
              "      <th>4</th>\n",
              "      <td>Cuba</td>\n",
              "      <td>11</td>\n",
              "    </tr>\n",
              "  </tbody>\n",
              "</table>\n",
              "</div>"
            ],
            "text/plain": [
              "     country  count\n",
              "0   Sao Tome     17\n",
              "1       Togo      3\n",
              "2       Peru    176\n",
              "3  Venezuela    228\n",
              "4       Cuba     11"
            ]
          },
          "metadata": {
            "tags": []
          },
          "execution_count": 237
        }
      ]
    },
    {
      "cell_type": "markdown",
      "metadata": {
        "id": "EiWhe8HZpq6n",
        "colab_type": "text"
      },
      "source": [
        "number of bean types in each broad_origin\n"
      ]
    },
    {
      "cell_type": "code",
      "metadata": {
        "id": "1RTCARIRmG8g",
        "colab_type": "code",
        "outputId": "665cbe17-3a95-4cfe-d6b9-5335627f80ea",
        "colab": {
          "base_uri": "https://localhost:8080/",
          "height": 297
        }
      },
      "source": [
        "origin_df.dropna(axis=0, inplace=True)\n",
        "origin_df.describe()"
      ],
      "execution_count": 0,
      "outputs": [
        {
          "output_type": "execute_result",
          "data": {
            "text/html": [
              "<div>\n",
              "<style scoped>\n",
              "    .dataframe tbody tr th:only-of-type {\n",
              "        vertical-align: middle;\n",
              "    }\n",
              "\n",
              "    .dataframe tbody tr th {\n",
              "        vertical-align: top;\n",
              "    }\n",
              "\n",
              "    .dataframe thead th {\n",
              "        text-align: right;\n",
              "    }\n",
              "</style>\n",
              "<table border=\"1\" class=\"dataframe\">\n",
              "  <thead>\n",
              "    <tr style=\"text-align: right;\">\n",
              "      <th></th>\n",
              "      <th>count</th>\n",
              "    </tr>\n",
              "  </thead>\n",
              "  <tbody>\n",
              "    <tr>\n",
              "      <th>count</th>\n",
              "      <td>66.000000</td>\n",
              "    </tr>\n",
              "    <tr>\n",
              "      <th>mean</th>\n",
              "      <td>28.454545</td>\n",
              "    </tr>\n",
              "    <tr>\n",
              "      <th>std</th>\n",
              "      <td>50.167161</td>\n",
              "    </tr>\n",
              "    <tr>\n",
              "      <th>min</th>\n",
              "      <td>1.000000</td>\n",
              "    </tr>\n",
              "    <tr>\n",
              "      <th>25%</th>\n",
              "      <td>2.250000</td>\n",
              "    </tr>\n",
              "    <tr>\n",
              "      <th>50%</th>\n",
              "      <td>8.000000</td>\n",
              "    </tr>\n",
              "    <tr>\n",
              "      <th>75%</th>\n",
              "      <td>33.250000</td>\n",
              "    </tr>\n",
              "    <tr>\n",
              "      <th>max</th>\n",
              "      <td>228.000000</td>\n",
              "    </tr>\n",
              "  </tbody>\n",
              "</table>\n",
              "</div>"
            ],
            "text/plain": [
              "            count\n",
              "count   66.000000\n",
              "mean    28.454545\n",
              "std     50.167161\n",
              "min      1.000000\n",
              "25%      2.250000\n",
              "50%      8.000000\n",
              "75%     33.250000\n",
              "max    228.000000"
            ]
          },
          "metadata": {
            "tags": []
          },
          "execution_count": 238
        }
      ]
    },
    {
      "cell_type": "code",
      "metadata": {
        "id": "WICP8CfK644K",
        "colab_type": "code",
        "colab": {}
      },
      "source": [
        "origin_df.to_csv('broad_origins.csv', index=False)"
      ],
      "execution_count": 0,
      "outputs": []
    },
    {
      "cell_type": "code",
      "metadata": {
        "id": "PkLR3cR7OG68",
        "colab_type": "code",
        "colab": {}
      },
      "source": [
        ""
      ],
      "execution_count": 0,
      "outputs": []
    },
    {
      "cell_type": "markdown",
      "metadata": {
        "id": "nSpmnvkYUIEN",
        "colab_type": "text"
      },
      "source": [
        "#Data Understanding"
      ]
    },
    {
      "cell_type": "code",
      "metadata": {
        "id": "wrVKcPdYT8sT",
        "colab_type": "code",
        "outputId": "c97dbffe-3ac7-4232-8abc-f85f33eec417",
        "colab": {
          "base_uri": "https://localhost:8080/",
          "height": 80
        }
      },
      "source": [
        "df.head().T\n",
        "df.groupby('company_location', as_index = False).max().sort_values(by = 'rating', ascending = False).head(1)"
      ],
      "execution_count": 0,
      "outputs": [
        {
          "output_type": "execute_result",
          "data": {
            "text/html": [
              "<div>\n",
              "<style scoped>\n",
              "    .dataframe tbody tr th:only-of-type {\n",
              "        vertical-align: middle;\n",
              "    }\n",
              "\n",
              "    .dataframe tbody tr th {\n",
              "        vertical-align: top;\n",
              "    }\n",
              "\n",
              "    .dataframe thead th {\n",
              "        text-align: right;\n",
              "    }\n",
              "</style>\n",
              "<table border=\"1\" class=\"dataframe\">\n",
              "  <thead>\n",
              "    <tr style=\"text-align: right;\">\n",
              "      <th></th>\n",
              "      <th>company_location</th>\n",
              "      <th>company</th>\n",
              "      <th>specific_origin</th>\n",
              "      <th>REF</th>\n",
              "      <th>review_date</th>\n",
              "      <th>cocoa_percent</th>\n",
              "      <th>rating</th>\n",
              "      <th>broad_origin</th>\n",
              "    </tr>\n",
              "  </thead>\n",
              "  <tbody>\n",
              "    <tr>\n",
              "      <th>29</th>\n",
              "      <td>Italy</td>\n",
              "      <td>Urzi</td>\n",
              "      <td>Venezuela</td>\n",
              "      <td>1672</td>\n",
              "      <td>2015</td>\n",
              "      <td>100.0</td>\n",
              "      <td>5.0</td>\n",
              "      <td>Venezuela,Trinidad,Ecuador</td>\n",
              "    </tr>\n",
              "  </tbody>\n",
              "</table>\n",
              "</div>"
            ],
            "text/plain": [
              "   company_location company  ... rating                broad_origin\n",
              "29            Italy    Urzi  ...    5.0  Venezuela,Trinidad,Ecuador\n",
              "\n",
              "[1 rows x 8 columns]"
            ]
          },
          "metadata": {
            "tags": []
          },
          "execution_count": 240
        }
      ]
    },
    {
      "cell_type": "code",
      "metadata": {
        "id": "Lwh3KA-0UMWt",
        "colab_type": "code",
        "colab": {}
      },
      "source": [
        ""
      ],
      "execution_count": 0,
      "outputs": []
    },
    {
      "cell_type": "markdown",
      "metadata": {
        "id": "hV-eDxoCUNAa",
        "colab_type": "text"
      },
      "source": [
        "#EDA"
      ]
    },
    {
      "cell_type": "markdown",
      "metadata": {
        "id": "90kNhZb3OHj1",
        "colab_type": "text"
      },
      "source": [
        "##Correlation"
      ]
    },
    {
      "cell_type": "code",
      "metadata": {
        "id": "_GOKS1hbOM8G",
        "colab_type": "code",
        "outputId": "b2762569-4deb-40c0-b786-82e34c3c3cf7",
        "colab": {
          "base_uri": "https://localhost:8080/",
          "height": 630
        }
      },
      "source": [
        "# see correlation between variables through a correlation heatmap\n",
        "corr = df.corr()\n",
        "plt.figure(figsize=(10,10))\n",
        "sns.heatmap(corr, annot=True, cmap=\"Reds\")\n",
        "plt.title('Correlation Heatmap', fontsize=20)"
      ],
      "execution_count": 0,
      "outputs": [
        {
          "output_type": "execute_result",
          "data": {
            "text/plain": [
              "Text(0.5, 1.0, 'Correlation Heatmap')"
            ]
          },
          "metadata": {
            "tags": []
          },
          "execution_count": 241
        },
        {
          "output_type": "display_data",
          "data": {
            "image/png": "[encoded data removed]",
            "text/plain": [
              "<Figure size 720x720 with 2 Axes>"
            ]
          },
          "metadata": {
            "tags": []
          }
        }
      ]
    },
    {
      "cell_type": "markdown",
      "metadata": {
        "id": "4d7ALyRYeRZv",
        "colab_type": "text"
      },
      "source": [
        "## Rating"
      ]
    },
    {
      "cell_type": "markdown",
      "metadata": {
        "id": "4XiJif2OWauD",
        "colab_type": "text"
      },
      "source": [
        "### In General"
      ]
    },
    {
      "cell_type": "code",
      "metadata": {
        "id": "lMORgE76lCBe",
        "colab_type": "code",
        "outputId": "d5ef12b4-0888-4d6f-b427-3311719cdaeb",
        "colab": {
          "base_uri": "https://localhost:8080/",
          "height": 300
        }
      },
      "source": [
        "# rating_count = df.rating.value_counts().to_frame('count');\n",
        "# rating_count.reset_index(drop=False, inplace=True);\n",
        "# rating_count.rename(columns={'index':'rating'}, inplace=True);\n",
        "# rating_count.head(2)\n",
        "sns.countplot(x='rating', data=df)"
      ],
      "execution_count": 0,
      "outputs": [
        {
          "output_type": "execute_result",
          "data": {
            "text/plain": [
              "<matplotlib.axes._subplots.AxesSubplot at 0x7f42dd4ee6d8>"
            ]
          },
          "metadata": {
            "tags": []
          },
          "execution_count": 242
        },
        {
          "output_type": "display_data",
          "data": {
            "image/png": "[encoded data removed]",
            "text/plain": [
              "<Figure size 432x288 with 1 Axes>"
            ]
          },
          "metadata": {
            "tags": []
          }
        }
      ]
    },
    {
      "cell_type": "code",
      "metadata": {
        "id": "EYxzM3MCLXWT",
        "colab_type": "code",
        "outputId": "e9cc9c63-8760-4955-d9b8-3a329351f974",
        "colab": {
          "base_uri": "https://localhost:8080/",
          "height": 283
        }
      },
      "source": [
        "sns.distplot(df['rating']);"
      ],
      "execution_count": 0,
      "outputs": [
        {
          "output_type": "display_data",
          "data": {
            "image/png": "[encoded data removed]",
            "text/plain": [
              "<Figure size 432x288 with 1 Axes>"
            ]
          },
          "metadata": {
            "tags": []
          }
        }
      ]
    },
    {
      "cell_type": "code",
      "metadata": {
        "id": "2eAYTYV_WYe4",
        "colab_type": "code",
        "outputId": "057dd089-f3a7-492d-f800-f7631ff99da7",
        "colab": {
          "base_uri": "https://localhost:8080/",
          "height": 354
        }
      },
      "source": [
        "\n",
        "plt.figure(figsize=(8, 5))\n",
        "sns.lineplot(x='REF', y='rating', data=df[df.review_date==2017].sort_values(by='REF', ascending=True))"
      ],
      "execution_count": 0,
      "outputs": [
        {
          "output_type": "execute_result",
          "data": {
            "text/plain": [
              "<matplotlib.axes._subplots.AxesSubplot at 0x7f42dce4e390>"
            ]
          },
          "metadata": {
            "tags": []
          },
          "execution_count": 244
        },
        {
          "output_type": "display_data",
          "data": {
            "image/png": "[encoded data removed]",
            "text/plain": [
              "<Figure size 576x360 with 1 Axes>"
            ]
          },
          "metadata": {
            "tags": []
          }
        }
      ]
    },
    {
      "cell_type": "markdown",
      "metadata": {
        "id": "5sBbJUPDef1d",
        "colab_type": "text"
      },
      "source": [
        "### Classify rating marks"
      ]
    },
    {
      "cell_type": "code",
      "metadata": {
        "id": "baqpfgYrgyOD",
        "colab_type": "code",
        "colab": {}
      },
      "source": [
        "def rating_classify(rating):\n",
        "  if rating >= 5:\n",
        "    return 'elite'\n",
        "  if rating >= 4 and rating < 5:\n",
        "    return 'premium'\n",
        "  if rating >= 3 and rating < 4:\n",
        "    return 'satisfactory'\n",
        "  if rating >= 2 and rating < 3:\n",
        "    return 'disapointing'\n",
        "  return 'unpleasant'"
      ],
      "execution_count": 0,
      "outputs": []
    },
    {
      "cell_type": "code",
      "metadata": {
        "id": "4iyb3wqoeTu8",
        "colab_type": "code",
        "outputId": "404fa217-325a-4909-95ba-939011616105",
        "colab": {
          "base_uri": "https://localhost:8080/",
          "height": 111
        }
      },
      "source": [
        "df['rating_class'] = df.rating\n",
        "df.rating_class = df.rating_class.apply(rating_classify);\n",
        "df.head(2)"
      ],
      "execution_count": 0,
      "outputs": [
        {
          "output_type": "execute_result",
          "data": {
            "text/html": [
              "<div>\n",
              "<style scoped>\n",
              "    .dataframe tbody tr th:only-of-type {\n",
              "        vertical-align: middle;\n",
              "    }\n",
              "\n",
              "    .dataframe tbody tr th {\n",
              "        vertical-align: top;\n",
              "    }\n",
              "\n",
              "    .dataframe thead th {\n",
              "        text-align: right;\n",
              "    }\n",
              "</style>\n",
              "<table border=\"1\" class=\"dataframe\">\n",
              "  <thead>\n",
              "    <tr style=\"text-align: right;\">\n",
              "      <th></th>\n",
              "      <th>company</th>\n",
              "      <th>specific_origin</th>\n",
              "      <th>REF</th>\n",
              "      <th>review_date</th>\n",
              "      <th>cocoa_percent</th>\n",
              "      <th>company_location</th>\n",
              "      <th>rating</th>\n",
              "      <th>bean_type</th>\n",
              "      <th>broad_origin</th>\n",
              "      <th>rating_class</th>\n",
              "    </tr>\n",
              "  </thead>\n",
              "  <tbody>\n",
              "    <tr>\n",
              "      <th>0</th>\n",
              "      <td>A. Morin</td>\n",
              "      <td>Agua Grande</td>\n",
              "      <td>1876</td>\n",
              "      <td>2016</td>\n",
              "      <td>63.0</td>\n",
              "      <td>France</td>\n",
              "      <td>3.75</td>\n",
              "      <td></td>\n",
              "      <td>Sao Tome</td>\n",
              "      <td>satisfactory</td>\n",
              "    </tr>\n",
              "    <tr>\n",
              "      <th>1</th>\n",
              "      <td>A. Morin</td>\n",
              "      <td>Kpime</td>\n",
              "      <td>1676</td>\n",
              "      <td>2015</td>\n",
              "      <td>70.0</td>\n",
              "      <td>France</td>\n",
              "      <td>2.75</td>\n",
              "      <td></td>\n",
              "      <td>Togo</td>\n",
              "      <td>disapointing</td>\n",
              "    </tr>\n",
              "  </tbody>\n",
              "</table>\n",
              "</div>"
            ],
            "text/plain": [
              "    company specific_origin   REF  ...  bean_type  broad_origin  rating_class\n",
              "0  A. Morin     Agua Grande  1876  ...                 Sao Tome  satisfactory\n",
              "1  A. Morin           Kpime  1676  ...                     Togo  disapointing\n",
              "\n",
              "[2 rows x 10 columns]"
            ]
          },
          "metadata": {
            "tags": []
          },
          "execution_count": 246
        }
      ]
    },
    {
      "cell_type": "markdown",
      "metadata": {
        "id": "iRLTmfgmkyFI",
        "colab_type": "text"
      },
      "source": [
        "###Rare chocolate: Premium and Elite"
      ]
    },
    {
      "cell_type": "code",
      "metadata": {
        "id": "Pzwe9gswh1jW",
        "colab_type": "code",
        "outputId": "374852b6-1ab8-4dab-99f9-754d1fbc2683",
        "colab": {
          "base_uri": "https://localhost:8080/",
          "height": 272
        }
      },
      "source": [
        "classes = df.rating_class.value_counts().index.tolist()\n",
        "sizes = df.rating_class.value_counts().values.tolist()\n",
        "print(classes)\n",
        "explode=(0, 0, 0, 1, 2.5)\n",
        "plt.pie(sizes, labels=classes, explode=explode, autopct='%1.1f%%')\n",
        "plt.show()\n",
        "\n"
      ],
      "execution_count": 0,
      "outputs": [
        {
          "output_type": "stream",
          "text": [
            "['satisfactory', 'disapointing', 'premium', 'unpleasant', 'elite']\n"
          ],
          "name": "stdout"
        },
        {
          "output_type": "display_data",
          "data": {
            "image/png": "[encoded data removed]",
            "text/plain": [
              "<Figure size 432x288 with 1 Axes>"
            ]
          },
          "metadata": {
            "tags": []
          }
        }
      ]
    },
    {
      "cell_type": "code",
      "metadata": {
        "id": "BRDwvuGHiL8o",
        "colab_type": "code",
        "outputId": "5afa99e8-17de-4442-d26f-5118e25443af",
        "colab": {
          "base_uri": "https://localhost:8080/",
          "height": 119
        }
      },
      "source": [
        "df.rating_class.value_counts()"
      ],
      "execution_count": 0,
      "outputs": [
        {
          "output_type": "execute_result",
          "data": {
            "text/plain": [
              "satisfactory    1246\n",
              "disapointing     432\n",
              "premium           98\n",
              "unpleasant        17\n",
              "elite              2\n",
              "Name: rating_class, dtype: int64"
            ]
          },
          "metadata": {
            "tags": []
          },
          "execution_count": 248
        }
      ]
    },
    {
      "cell_type": "markdown",
      "metadata": {
        "id": "9UpI2lpqQaUh",
        "colab_type": "text"
      },
      "source": [
        "### Correlation between rating with cocoa percent"
      ]
    },
    {
      "cell_type": "code",
      "metadata": {
        "id": "j0asWeg8Lqxv",
        "colab_type": "code",
        "outputId": "fc5d6aca-4b80-4bad-bd20-f7578daee679",
        "colab": {
          "base_uri": "https://localhost:8080/",
          "height": 441
        }
      },
      "source": [
        "sns.jointplot(x=\"rating\", y=\"cocoa_percent\", kind='kde', data=df);"
      ],
      "execution_count": 0,
      "outputs": [
        {
          "output_type": "display_data",
          "data": {
            "image/png": "[encoded data removed]",
            "text/plain": [
              "<Figure size 432x432 with 3 Axes>"
            ]
          },
          "metadata": {
            "tags": []
          }
        }
      ]
    },
    {
      "cell_type": "markdown",
      "metadata": {
        "id": "tWaX1UoBg-BG",
        "colab_type": "text"
      },
      "source": [
        "###Compare the relationships between cocoa_percent and rating"
      ]
    },
    {
      "cell_type": "code",
      "metadata": {
        "id": "AqiZcdddTr3N",
        "colab_type": "code",
        "colab": {}
      },
      "source": [
        ""
      ],
      "execution_count": 0,
      "outputs": []
    },
    {
      "cell_type": "code",
      "metadata": {
        "id": "eHJOWm_STxvs",
        "colab_type": "code",
        "colab": {}
      },
      "source": [
        "!pip install --upgrade -q gspread"
      ],
      "execution_count": 0,
      "outputs": []
    },
    {
      "cell_type": "markdown",
      "metadata": {
        "id": "gYls6myxbrsO",
        "colab_type": "text"
      },
      "source": [
        "#### Top 10 rating company"
      ]
    },
    {
      "cell_type": "code",
      "metadata": {
        "id": "TOOZfBVqbc2e",
        "colab_type": "code",
        "outputId": "009996f1-c399-4906-ecad-59dad2fb8f6e",
        "colab": {
          "base_uri": "https://localhost:8080/",
          "height": 359
        }
      },
      "source": [
        "com_loca_cocoa_percent = df[['company','company_location', 'cocoa_percent', 'rating']].groupby(['company','company_location']).mean()\n",
        "com_loca_cocoa_percent.reset_index(drop=False, inplace=True);\n",
        "com_loca_cocoa_percent.sort_values(by = ['rating'],ascending =False).head(10)"
      ],
      "execution_count": 0,
      "outputs": [
        {
          "output_type": "execute_result",
          "data": {
            "text/html": [
              "<div>\n",
              "<style scoped>\n",
              "    .dataframe tbody tr th:only-of-type {\n",
              "        vertical-align: middle;\n",
              "    }\n",
              "\n",
              "    .dataframe tbody tr th {\n",
              "        vertical-align: top;\n",
              "    }\n",
              "\n",
              "    .dataframe thead th {\n",
              "        text-align: right;\n",
              "    }\n",
              "</style>\n",
              "<table border=\"1\" class=\"dataframe\">\n",
              "  <thead>\n",
              "    <tr style=\"text-align: right;\">\n",
              "      <th></th>\n",
              "      <th>company</th>\n",
              "      <th>company_location</th>\n",
              "      <th>cocoa_percent</th>\n",
              "      <th>rating</th>\n",
              "    </tr>\n",
              "  </thead>\n",
              "  <tbody>\n",
              "    <tr>\n",
              "      <th>381</th>\n",
              "      <td>Tobago Estate (Pralus)</td>\n",
              "      <td>France</td>\n",
              "      <td>70.000000</td>\n",
              "      <td>4.000000</td>\n",
              "    </tr>\n",
              "    <tr>\n",
              "      <th>287</th>\n",
              "      <td>Ocelot</td>\n",
              "      <td>Scotland</td>\n",
              "      <td>72.500000</td>\n",
              "      <td>3.875000</td>\n",
              "    </tr>\n",
              "    <tr>\n",
              "      <th>183</th>\n",
              "      <td>Heirloom Cacao Preservation (Zokoko)</td>\n",
              "      <td>U.S.A.</td>\n",
              "      <td>70.000000</td>\n",
              "      <td>3.875000</td>\n",
              "    </tr>\n",
              "    <tr>\n",
              "      <th>14</th>\n",
              "      <td>Amedei</td>\n",
              "      <td>Italy</td>\n",
              "      <td>69.538462</td>\n",
              "      <td>3.846154</td>\n",
              "    </tr>\n",
              "    <tr>\n",
              "      <th>249</th>\n",
              "      <td>Matale</td>\n",
              "      <td>Australia</td>\n",
              "      <td>71.000000</td>\n",
              "      <td>3.812500</td>\n",
              "    </tr>\n",
              "    <tr>\n",
              "      <th>304</th>\n",
              "      <td>Patric</td>\n",
              "      <td>U.S.A.</td>\n",
              "      <td>69.833333</td>\n",
              "      <td>3.791667</td>\n",
              "    </tr>\n",
              "    <tr>\n",
              "      <th>191</th>\n",
              "      <td>Idilio (Felchlin)</td>\n",
              "      <td>Switzerland</td>\n",
              "      <td>72.000000</td>\n",
              "      <td>3.775000</td>\n",
              "    </tr>\n",
              "    <tr>\n",
              "      <th>96</th>\n",
              "      <td>Christopher Morel (Felchlin)</td>\n",
              "      <td>Canada</td>\n",
              "      <td>68.000000</td>\n",
              "      <td>3.750000</td>\n",
              "    </tr>\n",
              "    <tr>\n",
              "      <th>125</th>\n",
              "      <td>Dole (Guittard)</td>\n",
              "      <td>U.S.A.</td>\n",
              "      <td>70.000000</td>\n",
              "      <td>3.750000</td>\n",
              "    </tr>\n",
              "    <tr>\n",
              "      <th>2</th>\n",
              "      <td>Acalli</td>\n",
              "      <td>U.S.A.</td>\n",
              "      <td>70.000000</td>\n",
              "      <td>3.750000</td>\n",
              "    </tr>\n",
              "  </tbody>\n",
              "</table>\n",
              "</div>"
            ],
            "text/plain": [
              "                                  company  ...    rating\n",
              "381                Tobago Estate (Pralus)  ...  4.000000\n",
              "287                                Ocelot  ...  3.875000\n",
              "183  Heirloom Cacao Preservation (Zokoko)  ...  3.875000\n",
              "14                                 Amedei  ...  3.846154\n",
              "249                                Matale  ...  3.812500\n",
              "304                                Patric  ...  3.791667\n",
              "191                     Idilio (Felchlin)  ...  3.775000\n",
              "96           Christopher Morel (Felchlin)  ...  3.750000\n",
              "125                       Dole (Guittard)  ...  3.750000\n",
              "2                                  Acalli  ...  3.750000\n",
              "\n",
              "[10 rows x 4 columns]"
            ]
          },
          "metadata": {
            "tags": []
          },
          "execution_count": 251
        }
      ]
    },
    {
      "cell_type": "markdown",
      "metadata": {
        "id": "Hx1OHK9sb9-r",
        "colab_type": "text"
      },
      "source": [
        "#### Top 10 rating company location"
      ]
    },
    {
      "cell_type": "code",
      "metadata": {
        "id": "FbJAN4uwagQG",
        "colab_type": "code",
        "outputId": "5d9c4756-5b40-4e6d-f6c0-b385c417c57e",
        "colab": {
          "base_uri": "https://localhost:8080/",
          "height": 359
        }
      },
      "source": [
        "com_loca_cocoa_percent = df[['company_location', 'cocoa_percent', 'rating']].groupby('company_location').mean()\n",
        "com_loca_cocoa_percent.reset_index(drop=False, inplace=True);\n",
        "com_loca_cocoa_percent.sort_values(by = ['rating'],ascending =False).head(10)"
      ],
      "execution_count": 0,
      "outputs": [
        {
          "output_type": "execute_result",
          "data": {
            "text/html": [
              "<div>\n",
              "<style scoped>\n",
              "    .dataframe tbody tr th:only-of-type {\n",
              "        vertical-align: middle;\n",
              "    }\n",
              "\n",
              "    .dataframe tbody tr th {\n",
              "        vertical-align: top;\n",
              "    }\n",
              "\n",
              "    .dataframe thead th {\n",
              "        text-align: right;\n",
              "    }\n",
              "</style>\n",
              "<table border=\"1\" class=\"dataframe\">\n",
              "  <thead>\n",
              "    <tr style=\"text-align: right;\">\n",
              "      <th></th>\n",
              "      <th>company_location</th>\n",
              "      <th>cocoa_percent</th>\n",
              "      <th>rating</th>\n",
              "    </tr>\n",
              "  </thead>\n",
              "  <tbody>\n",
              "    <tr>\n",
              "      <th>7</th>\n",
              "      <td>Chile</td>\n",
              "      <td>70.000000</td>\n",
              "      <td>3.750000</td>\n",
              "    </tr>\n",
              "    <tr>\n",
              "      <th>39</th>\n",
              "      <td>Philippines</td>\n",
              "      <td>65.000000</td>\n",
              "      <td>3.500000</td>\n",
              "    </tr>\n",
              "    <tr>\n",
              "      <th>35</th>\n",
              "      <td>Netherlands</td>\n",
              "      <td>71.625000</td>\n",
              "      <td>3.500000</td>\n",
              "    </tr>\n",
              "    <tr>\n",
              "      <th>25</th>\n",
              "      <td>Iceland</td>\n",
              "      <td>68.666667</td>\n",
              "      <td>3.416667</td>\n",
              "    </tr>\n",
              "    <tr>\n",
              "      <th>56</th>\n",
              "      <td>Vietnam</td>\n",
              "      <td>74.545455</td>\n",
              "      <td>3.409091</td>\n",
              "    </tr>\n",
              "    <tr>\n",
              "      <th>5</th>\n",
              "      <td>Brazil</td>\n",
              "      <td>69.823529</td>\n",
              "      <td>3.397059</td>\n",
              "    </tr>\n",
              "    <tr>\n",
              "      <th>40</th>\n",
              "      <td>Poland</td>\n",
              "      <td>71.875000</td>\n",
              "      <td>3.375000</td>\n",
              "    </tr>\n",
              "    <tr>\n",
              "      <th>1</th>\n",
              "      <td>Australia</td>\n",
              "      <td>70.224490</td>\n",
              "      <td>3.357143</td>\n",
              "    </tr>\n",
              "    <tr>\n",
              "      <th>22</th>\n",
              "      <td>Guatemala</td>\n",
              "      <td>70.200000</td>\n",
              "      <td>3.350000</td>\n",
              "    </tr>\n",
              "    <tr>\n",
              "      <th>53</th>\n",
              "      <td>Switzerland</td>\n",
              "      <td>71.210526</td>\n",
              "      <td>3.342105</td>\n",
              "    </tr>\n",
              "  </tbody>\n",
              "</table>\n",
              "</div>"
            ],
            "text/plain": [
              "   company_location  cocoa_percent    rating\n",
              "7             Chile      70.000000  3.750000\n",
              "39      Philippines      65.000000  3.500000\n",
              "35      Netherlands      71.625000  3.500000\n",
              "25          Iceland      68.666667  3.416667\n",
              "56          Vietnam      74.545455  3.409091\n",
              "5            Brazil      69.823529  3.397059\n",
              "40           Poland      71.875000  3.375000\n",
              "1         Australia      70.224490  3.357143\n",
              "22        Guatemala      70.200000  3.350000\n",
              "53      Switzerland      71.210526  3.342105"
            ]
          },
          "metadata": {
            "tags": []
          },
          "execution_count": 252
        }
      ]
    },
    {
      "cell_type": "markdown",
      "metadata": {
        "id": "Q9RdXe9DcfaL",
        "colab_type": "text"
      },
      "source": [
        "### Popular"
      ]
    },
    {
      "cell_type": "markdown",
      "metadata": {
        "id": "VtHITtc9QGMf",
        "colab_type": "text"
      },
      "source": [
        "#### Top 10 Popular Company"
      ]
    },
    {
      "cell_type": "code",
      "metadata": {
        "id": "vKXBnWGyMLIs",
        "colab_type": "code",
        "outputId": "7732fea9-672f-40ee-80b7-ed56cc9dfd89",
        "colab": {
          "base_uri": "https://localhost:8080/",
          "height": 729
        }
      },
      "source": [
        "def n_most_company(n):\n",
        "  length = df.shape[0]\n",
        "  df['count'] = np.ones(length)\n",
        "  most_company = df.groupby('company').sum().sort_values(by = 'count', ascending=False)\n",
        "  return most_company.head(n).index\n",
        "\n",
        "ten_most_company = n_most_company(10)\n",
        "\n",
        "def is_top_10_company(x):\n",
        "  if x in ten_most_company:\n",
        "    return True\n",
        "  else:\n",
        "    return False\n",
        "  \n",
        "top_10_company = df[df['company'].apply(is_top_10_company)]\n",
        "\n",
        "ax = sns.catplot(x=\"company\", y=\"rating\", kind=\"box\", data=top_10_company,aspect =1.2, height=10)\n"
      ],
      "execution_count": 0,
      "outputs": [
        {
          "output_type": "display_data",
          "data": {
            "image/png": "[encoded data removed]",
            "text/plain": [
              "<Figure size 864x720 with 1 Axes>"
            ]
          },
          "metadata": {
            "tags": []
          }
        }
      ]
    },
    {
      "cell_type": "markdown",
      "metadata": {
        "id": "GhfbPwYLbI_G",
        "colab_type": "text"
      },
      "source": [
        "#### Top 10 Popular Company Location"
      ]
    },
    {
      "cell_type": "code",
      "metadata": {
        "id": "kHp6LIfINh2e",
        "colab_type": "code",
        "outputId": "2db24b36-eab6-451d-a9e9-a2ad47ade13c",
        "colab": {
          "base_uri": "https://localhost:8080/",
          "height": 729
        }
      },
      "source": [
        "def n_most_company_location(n):\n",
        "  length = df.shape[0]\n",
        "  df['count'] = np.ones(length)\n",
        "  most_company = df.groupby('company_location').sum().sort_values(by = 'count', ascending=False)\n",
        "  return most_company.head(n).index\n",
        "\n",
        "ten_most_company_location = n_most_company_location(10)\n",
        "\n",
        "def is_top_10_company_location(x):\n",
        "  if x in ten_most_company_location:\n",
        "    return True\n",
        "  else:\n",
        "    return False\n",
        "  \n",
        "top_10_company_location = df[df['company_location'].apply(is_top_10_company_location)]\n",
        "ax = sns.catplot(x=\"company_location\", y=\"rating\", kind=\"box\", data=top_10_company_location,height =10, aspect =1.2)"
      ],
      "execution_count": 0,
      "outputs": [
        {
          "output_type": "display_data",
          "data": {
            "image/png": "[encoded data removed]",
            "text/plain": [
              "<Figure size 864x720 with 1 Axes>"
            ]
          },
          "metadata": {
            "tags": []
          }
        }
      ]
    },
    {
      "cell_type": "markdown",
      "metadata": {
        "id": "sIPXAYRVQZ7-",
        "colab_type": "text"
      },
      "source": [
        "##Analysis by year"
      ]
    },
    {
      "cell_type": "markdown",
      "metadata": {
        "id": "vTPvqOb4SrGj",
        "colab_type": "text"
      },
      "source": [
        "### In General"
      ]
    },
    {
      "cell_type": "code",
      "metadata": {
        "id": "crIY0JuePJ0W",
        "colab_type": "code",
        "outputId": "0d2fab13-443d-4ab8-ca5b-cdef49206e4f",
        "colab": {
          "base_uri": "https://localhost:8080/",
          "height": 313
        }
      },
      "source": [
        "sns.distplot(df['review_date'],kde=False);\n",
        "plt.title('Distribution of review date')\n",
        "# Perfect period is 2012-2016\n",
        "# Worst period is 2006-2009"
      ],
      "execution_count": 0,
      "outputs": [
        {
          "output_type": "execute_result",
          "data": {
            "text/plain": [
              "Text(0.5, 1.0, 'Distribution of review date')"
            ]
          },
          "metadata": {
            "tags": []
          },
          "execution_count": 255
        },
        {
          "output_type": "display_data",
          "data": {
            "image/png": "[encoded data removed]",
            "text/plain": [
              "<Figure size 432x288 with 1 Axes>"
            ]
          },
          "metadata": {
            "tags": []
          }
        }
      ]
    },
    {
      "cell_type": "code",
      "metadata": {
        "id": "qozckppYSbvu",
        "colab_type": "code",
        "outputId": "5512a3c0-00a0-4547-924a-6c4bf65ae76f",
        "colab": {
          "base_uri": "https://localhost:8080/",
          "height": 452
        }
      },
      "source": [
        "#dverage cocoa_percent by year\n",
        "avg_cocoa_year = df.groupby('review_date').mean()\n",
        "avg_cocoa_year\n"
      ],
      "execution_count": 0,
      "outputs": [
        {
          "output_type": "execute_result",
          "data": {
            "text/html": [
              "<div>\n",
              "<style scoped>\n",
              "    .dataframe tbody tr th:only-of-type {\n",
              "        vertical-align: middle;\n",
              "    }\n",
              "\n",
              "    .dataframe tbody tr th {\n",
              "        vertical-align: top;\n",
              "    }\n",
              "\n",
              "    .dataframe thead th {\n",
              "        text-align: right;\n",
              "    }\n",
              "</style>\n",
              "<table border=\"1\" class=\"dataframe\">\n",
              "  <thead>\n",
              "    <tr style=\"text-align: right;\">\n",
              "      <th></th>\n",
              "      <th>REF</th>\n",
              "      <th>cocoa_percent</th>\n",
              "      <th>rating</th>\n",
              "      <th>count</th>\n",
              "    </tr>\n",
              "    <tr>\n",
              "      <th>review_date</th>\n",
              "      <th></th>\n",
              "      <th></th>\n",
              "      <th></th>\n",
              "      <th></th>\n",
              "    </tr>\n",
              "  </thead>\n",
              "  <tbody>\n",
              "    <tr>\n",
              "      <th>2006</th>\n",
              "      <td>54.375000</td>\n",
              "      <td>71.000000</td>\n",
              "      <td>3.125000</td>\n",
              "      <td>1.0</td>\n",
              "    </tr>\n",
              "    <tr>\n",
              "      <th>2007</th>\n",
              "      <td>151.155844</td>\n",
              "      <td>72.038961</td>\n",
              "      <td>3.162338</td>\n",
              "      <td>1.0</td>\n",
              "    </tr>\n",
              "    <tr>\n",
              "      <th>2008</th>\n",
              "      <td>256.086022</td>\n",
              "      <td>72.698925</td>\n",
              "      <td>2.994624</td>\n",
              "      <td>1.0</td>\n",
              "    </tr>\n",
              "    <tr>\n",
              "      <th>2009</th>\n",
              "      <td>389.585366</td>\n",
              "      <td>70.443089</td>\n",
              "      <td>3.073171</td>\n",
              "      <td>1.0</td>\n",
              "    </tr>\n",
              "    <tr>\n",
              "      <th>2010</th>\n",
              "      <td>540.306306</td>\n",
              "      <td>70.779279</td>\n",
              "      <td>3.148649</td>\n",
              "      <td>1.0</td>\n",
              "    </tr>\n",
              "    <tr>\n",
              "      <th>2011</th>\n",
              "      <td>703.787879</td>\n",
              "      <td>70.969697</td>\n",
              "      <td>3.256061</td>\n",
              "      <td>1.0</td>\n",
              "    </tr>\n",
              "    <tr>\n",
              "      <th>2012</th>\n",
              "      <td>900.692308</td>\n",
              "      <td>71.528205</td>\n",
              "      <td>3.178205</td>\n",
              "      <td>1.0</td>\n",
              "    </tr>\n",
              "    <tr>\n",
              "      <th>2013</th>\n",
              "      <td>1101.152174</td>\n",
              "      <td>72.266304</td>\n",
              "      <td>3.197011</td>\n",
              "      <td>1.0</td>\n",
              "    </tr>\n",
              "    <tr>\n",
              "      <th>2014</th>\n",
              "      <td>1319.165992</td>\n",
              "      <td>72.253036</td>\n",
              "      <td>3.189271</td>\n",
              "      <td>1.0</td>\n",
              "    </tr>\n",
              "    <tr>\n",
              "      <th>2015</th>\n",
              "      <td>1568.182456</td>\n",
              "      <td>72.014035</td>\n",
              "      <td>3.246491</td>\n",
              "      <td>1.0</td>\n",
              "    </tr>\n",
              "    <tr>\n",
              "      <th>2016</th>\n",
              "      <td>1819.470320</td>\n",
              "      <td>71.757991</td>\n",
              "      <td>3.226027</td>\n",
              "      <td>1.0</td>\n",
              "    </tr>\n",
              "    <tr>\n",
              "      <th>2017</th>\n",
              "      <td>1941.000000</td>\n",
              "      <td>71.541667</td>\n",
              "      <td>3.312500</td>\n",
              "      <td>1.0</td>\n",
              "    </tr>\n",
              "  </tbody>\n",
              "</table>\n",
              "</div>"
            ],
            "text/plain": [
              "                     REF  cocoa_percent    rating  count\n",
              "review_date                                             \n",
              "2006           54.375000      71.000000  3.125000    1.0\n",
              "2007          151.155844      72.038961  3.162338    1.0\n",
              "2008          256.086022      72.698925  2.994624    1.0\n",
              "2009          389.585366      70.443089  3.073171    1.0\n",
              "2010          540.306306      70.779279  3.148649    1.0\n",
              "2011          703.787879      70.969697  3.256061    1.0\n",
              "2012          900.692308      71.528205  3.178205    1.0\n",
              "2013         1101.152174      72.266304  3.197011    1.0\n",
              "2014         1319.165992      72.253036  3.189271    1.0\n",
              "2015         1568.182456      72.014035  3.246491    1.0\n",
              "2016         1819.470320      71.757991  3.226027    1.0\n",
              "2017         1941.000000      71.541667  3.312500    1.0"
            ]
          },
          "metadata": {
            "tags": []
          },
          "execution_count": 256
        }
      ]
    },
    {
      "cell_type": "code",
      "metadata": {
        "id": "P5OC6p3MShj3",
        "colab_type": "code",
        "colab": {}
      },
      "source": [
        "\n"
      ],
      "execution_count": 0,
      "outputs": []
    },
    {
      "cell_type": "markdown",
      "metadata": {
        "id": "bP4mo609PPge",
        "colab_type": "text"
      },
      "source": [
        "### Correlation between review date and rating"
      ]
    },
    {
      "cell_type": "code",
      "metadata": {
        "id": "s-_pQSh0Pb7L",
        "colab_type": "code",
        "outputId": "78706409-d96d-4262-ff80-4021469fd4d0",
        "colab": {
          "base_uri": "https://localhost:8080/",
          "height": 441
        }
      },
      "source": [
        "sns.jointplot(x=\"review_date\", y=\"rating\", kind='kde', data=df);\n",
        "## We realize that 2012-2016 period has high rating"
      ],
      "execution_count": 0,
      "outputs": [
        {
          "output_type": "display_data",
          "data": {
            "image/png": "[encoded data removed]",
            "text/plain": [
              "<Figure size 432x432 with 3 Axes>"
            ]
          },
          "metadata": {
            "tags": []
          }
        }
      ]
    },
    {
      "cell_type": "code",
      "metadata": {
        "id": "WjfxDwQddBCb",
        "colab_type": "code",
        "colab": {}
      },
      "source": [
        ""
      ],
      "execution_count": 0,
      "outputs": []
    },
    {
      "cell_type": "markdown",
      "metadata": {
        "id": "bPdrX4GhPfB4",
        "colab_type": "text"
      },
      "source": [
        "###Perfect period"
      ]
    },
    {
      "cell_type": "code",
      "metadata": {
        "id": "auK2P6FhPena",
        "colab_type": "code",
        "colab": {}
      },
      "source": [
        "perfect_period = df[(2013<= df['review_date']) & (df['review_date'] <= 2016)]"
      ],
      "execution_count": 0,
      "outputs": []
    },
    {
      "cell_type": "code",
      "metadata": {
        "id": "vOwI8F7wPm2I",
        "colab_type": "code",
        "colab": {}
      },
      "source": [
        "worst_period = df[(2010 > df['review_date'])]"
      ],
      "execution_count": 0,
      "outputs": []
    },
    {
      "cell_type": "code",
      "metadata": {
        "id": "7cdH0YA0Ppsg",
        "colab_type": "code",
        "outputId": "8f438580-60ab-4413-bda2-ff781b052eb9",
        "colab": {
          "base_uri": "https://localhost:8080/",
          "height": 856
        }
      },
      "source": [
        "fig = plt.figure(figsize = (10,14))\n",
        "fig.add_subplot(211)   #top left\n",
        "ax = sns.distplot(perfect_period['cocoa_percent'])\n",
        "plt.title('Cocoa percent in perfect period')\n",
        "fig.add_subplot(212)   #\n",
        "ax = sns.distplot(worst_period['cocoa_percent'])\n",
        "plt.title('Cocoa percent in worst period')"
      ],
      "execution_count": 0,
      "outputs": [
        {
          "output_type": "execute_result",
          "data": {
            "text/plain": [
              "Text(0.5, 1.0, 'Cocoa percent in worst period')"
            ]
          },
          "metadata": {
            "tags": []
          },
          "execution_count": 260
        },
        {
          "output_type": "display_data",
          "data": {
            "image/png": "[encoded data removed]",
            "text/plain": [
              "<Figure size 720x1008 with 2 Axes>"
            ]
          },
          "metadata": {
            "tags": []
          }
        }
      ]
    },
    {
      "cell_type": "markdown",
      "metadata": {
        "id": "KawwaVWDc8Il",
        "colab_type": "text"
      },
      "source": [
        "#### Top 10 rating company"
      ]
    },
    {
      "cell_type": "code",
      "metadata": {
        "id": "HCvLMSomcW_V",
        "colab_type": "code",
        "outputId": "bbf76d0a-2c2d-4da7-edd7-6b57b3abe96b",
        "colab": {
          "base_uri": "https://localhost:8080/",
          "height": 359
        }
      },
      "source": [
        "com_loca_cocoa_percent = perfect_period[['company','company_location', 'cocoa_percent', 'rating']].groupby(['company','company_location']).mean()\n",
        "com_loca_cocoa_percent.reset_index(drop=False, inplace=True);\n",
        "com_loca_cocoa_percent.sort_values(by = ['rating'],ascending =False).head(10)"
      ],
      "execution_count": 0,
      "outputs": [
        {
          "output_type": "execute_result",
          "data": {
            "text/html": [
              "<div>\n",
              "<style scoped>\n",
              "    .dataframe tbody tr th:only-of-type {\n",
              "        vertical-align: middle;\n",
              "    }\n",
              "\n",
              "    .dataframe tbody tr th {\n",
              "        vertical-align: top;\n",
              "    }\n",
              "\n",
              "    .dataframe thead th {\n",
              "        text-align: right;\n",
              "    }\n",
              "</style>\n",
              "<table border=\"1\" class=\"dataframe\">\n",
              "  <thead>\n",
              "    <tr style=\"text-align: right;\">\n",
              "      <th></th>\n",
              "      <th>company</th>\n",
              "      <th>company_location</th>\n",
              "      <th>cocoa_percent</th>\n",
              "      <th>rating</th>\n",
              "    </tr>\n",
              "  </thead>\n",
              "  <tbody>\n",
              "    <tr>\n",
              "      <th>214</th>\n",
              "      <td>Patric</td>\n",
              "      <td>U.S.A.</td>\n",
              "      <td>67.0</td>\n",
              "      <td>4.0000</td>\n",
              "    </tr>\n",
              "    <tr>\n",
              "      <th>203</th>\n",
              "      <td>Ocelot</td>\n",
              "      <td>Scotland</td>\n",
              "      <td>72.5</td>\n",
              "      <td>3.8750</td>\n",
              "    </tr>\n",
              "    <tr>\n",
              "      <th>130</th>\n",
              "      <td>Heirloom Cacao Preservation (Zokoko)</td>\n",
              "      <td>U.S.A.</td>\n",
              "      <td>70.0</td>\n",
              "      <td>3.8750</td>\n",
              "    </tr>\n",
              "    <tr>\n",
              "      <th>174</th>\n",
              "      <td>Matale</td>\n",
              "      <td>Australia</td>\n",
              "      <td>71.0</td>\n",
              "      <td>3.8125</td>\n",
              "    </tr>\n",
              "    <tr>\n",
              "      <th>64</th>\n",
              "      <td>Chocolate Tree, The</td>\n",
              "      <td>Scotland</td>\n",
              "      <td>73.0</td>\n",
              "      <td>3.7500</td>\n",
              "    </tr>\n",
              "    <tr>\n",
              "      <th>13</th>\n",
              "      <td>Askinosie</td>\n",
              "      <td>U.S.A.</td>\n",
              "      <td>68.0</td>\n",
              "      <td>3.7500</td>\n",
              "    </tr>\n",
              "    <tr>\n",
              "      <th>263</th>\n",
              "      <td>Timo A. Meyer</td>\n",
              "      <td>Germany</td>\n",
              "      <td>72.0</td>\n",
              "      <td>3.7500</td>\n",
              "    </tr>\n",
              "    <tr>\n",
              "      <th>146</th>\n",
              "      <td>Kerchner</td>\n",
              "      <td>U.S.A.</td>\n",
              "      <td>70.0</td>\n",
              "      <td>3.7500</td>\n",
              "    </tr>\n",
              "    <tr>\n",
              "      <th>90</th>\n",
              "      <td>Duffy's</td>\n",
              "      <td>England</td>\n",
              "      <td>72.0</td>\n",
              "      <td>3.7500</td>\n",
              "    </tr>\n",
              "    <tr>\n",
              "      <th>16</th>\n",
              "      <td>Bar Au Chocolat</td>\n",
              "      <td>U.S.A.</td>\n",
              "      <td>70.0</td>\n",
              "      <td>3.7500</td>\n",
              "    </tr>\n",
              "  </tbody>\n",
              "</table>\n",
              "</div>"
            ],
            "text/plain": [
              "                                  company  ...  rating\n",
              "214                                Patric  ...  4.0000\n",
              "203                                Ocelot  ...  3.8750\n",
              "130  Heirloom Cacao Preservation (Zokoko)  ...  3.8750\n",
              "174                                Matale  ...  3.8125\n",
              "64                    Chocolate Tree, The  ...  3.7500\n",
              "13                              Askinosie  ...  3.7500\n",
              "263                         Timo A. Meyer  ...  3.7500\n",
              "146                              Kerchner  ...  3.7500\n",
              "90                                Duffy's  ...  3.7500\n",
              "16                        Bar Au Chocolat  ...  3.7500\n",
              "\n",
              "[10 rows x 4 columns]"
            ]
          },
          "metadata": {
            "tags": []
          },
          "execution_count": 261
        }
      ]
    },
    {
      "cell_type": "code",
      "metadata": {
        "id": "YTHWp6bCdVq9",
        "colab_type": "code",
        "outputId": "81e4a18a-3889-4021-cb3b-967a3211af64",
        "colab": {
          "base_uri": "https://localhost:8080/",
          "height": 359
        }
      },
      "source": [
        "com_loca_cocoa_percent = worst_period[['company','company_location', 'cocoa_percent', 'rating']].groupby(['company','company_location']).mean()\n",
        "com_loca_cocoa_percent.reset_index(drop=False, inplace=True);\n",
        "com_loca_cocoa_percent.sort_values(by = ['rating'],ascending =False).head(10)"
      ],
      "execution_count": 0,
      "outputs": [
        {
          "output_type": "execute_result",
          "data": {
            "text/html": [
              "<div>\n",
              "<style scoped>\n",
              "    .dataframe tbody tr th:only-of-type {\n",
              "        vertical-align: middle;\n",
              "    }\n",
              "\n",
              "    .dataframe tbody tr th {\n",
              "        vertical-align: top;\n",
              "    }\n",
              "\n",
              "    .dataframe thead th {\n",
              "        text-align: right;\n",
              "    }\n",
              "</style>\n",
              "<table border=\"1\" class=\"dataframe\">\n",
              "  <thead>\n",
              "    <tr style=\"text-align: right;\">\n",
              "      <th></th>\n",
              "      <th>company</th>\n",
              "      <th>company_location</th>\n",
              "      <th>cocoa_percent</th>\n",
              "      <th>rating</th>\n",
              "    </tr>\n",
              "  </thead>\n",
              "  <tbody>\n",
              "    <tr>\n",
              "      <th>13</th>\n",
              "      <td>Cacao Sampaka</td>\n",
              "      <td>Spain</td>\n",
              "      <td>70.000000</td>\n",
              "      <td>4.000000</td>\n",
              "    </tr>\n",
              "    <tr>\n",
              "      <th>4</th>\n",
              "      <td>Amedei</td>\n",
              "      <td>Italy</td>\n",
              "      <td>69.500000</td>\n",
              "      <td>3.854167</td>\n",
              "    </tr>\n",
              "    <tr>\n",
              "      <th>47</th>\n",
              "      <td>Kakao</td>\n",
              "      <td>Germany</td>\n",
              "      <td>65.000000</td>\n",
              "      <td>3.750000</td>\n",
              "    </tr>\n",
              "    <tr>\n",
              "      <th>30</th>\n",
              "      <td>Dole (Guittard)</td>\n",
              "      <td>U.S.A.</td>\n",
              "      <td>70.000000</td>\n",
              "      <td>3.750000</td>\n",
              "    </tr>\n",
              "    <tr>\n",
              "      <th>65</th>\n",
              "      <td>Patric</td>\n",
              "      <td>U.S.A.</td>\n",
              "      <td>70.500000</td>\n",
              "      <td>3.750000</td>\n",
              "    </tr>\n",
              "    <tr>\n",
              "      <th>55</th>\n",
              "      <td>Madecasse (Cinagra)</td>\n",
              "      <td>Madagascar</td>\n",
              "      <td>68.750000</td>\n",
              "      <td>3.687500</td>\n",
              "    </tr>\n",
              "    <tr>\n",
              "      <th>66</th>\n",
              "      <td>Pierre Marcolini</td>\n",
              "      <td>Belgium</td>\n",
              "      <td>73.222222</td>\n",
              "      <td>3.583333</td>\n",
              "    </tr>\n",
              "    <tr>\n",
              "      <th>70</th>\n",
              "      <td>Salgado</td>\n",
              "      <td>Argentina</td>\n",
              "      <td>70.000000</td>\n",
              "      <td>3.500000</td>\n",
              "    </tr>\n",
              "    <tr>\n",
              "      <th>32</th>\n",
              "      <td>Domori</td>\n",
              "      <td>Italy</td>\n",
              "      <td>70.200000</td>\n",
              "      <td>3.483333</td>\n",
              "    </tr>\n",
              "    <tr>\n",
              "      <th>73</th>\n",
              "      <td>Soma</td>\n",
              "      <td>Canada</td>\n",
              "      <td>70.000000</td>\n",
              "      <td>3.416667</td>\n",
              "    </tr>\n",
              "  </tbody>\n",
              "</table>\n",
              "</div>"
            ],
            "text/plain": [
              "                company company_location  cocoa_percent    rating\n",
              "13        Cacao Sampaka            Spain      70.000000  4.000000\n",
              "4                Amedei            Italy      69.500000  3.854167\n",
              "47                Kakao          Germany      65.000000  3.750000\n",
              "30      Dole (Guittard)           U.S.A.      70.000000  3.750000\n",
              "65               Patric           U.S.A.      70.500000  3.750000\n",
              "55  Madecasse (Cinagra)       Madagascar      68.750000  3.687500\n",
              "66     Pierre Marcolini          Belgium      73.222222  3.583333\n",
              "70              Salgado        Argentina      70.000000  3.500000\n",
              "32               Domori            Italy      70.200000  3.483333\n",
              "73                 Soma           Canada      70.000000  3.416667"
            ]
          },
          "metadata": {
            "tags": []
          },
          "execution_count": 262
        }
      ]
    },
    {
      "cell_type": "markdown",
      "metadata": {
        "id": "4pTddbvbdcW9",
        "colab_type": "text"
      },
      "source": [
        "#### Top 10 rating company location"
      ]
    },
    {
      "cell_type": "code",
      "metadata": {
        "id": "Jev7j5J1dqPC",
        "colab_type": "code",
        "outputId": "bb77c7ba-ae01-4e53-8783-74fa4fb74b9a",
        "colab": {
          "base_uri": "https://localhost:8080/",
          "height": 359
        }
      },
      "source": [
        "com_loca_cocoa_percent = perfect_period[['company_location', 'cocoa_percent', 'rating']].groupby('company_location').mean()\n",
        "com_loca_cocoa_percent.reset_index(drop=False, inplace=True);\n",
        "com_loca_cocoa_percent.sort_values(by = ['rating'],ascending =False).head(10)"
      ],
      "execution_count": 0,
      "outputs": [
        {
          "output_type": "execute_result",
          "data": {
            "text/html": [
              "<div>\n",
              "<style scoped>\n",
              "    .dataframe tbody tr th:only-of-type {\n",
              "        vertical-align: middle;\n",
              "    }\n",
              "\n",
              "    .dataframe tbody tr th {\n",
              "        vertical-align: top;\n",
              "    }\n",
              "\n",
              "    .dataframe thead th {\n",
              "        text-align: right;\n",
              "    }\n",
              "</style>\n",
              "<table border=\"1\" class=\"dataframe\">\n",
              "  <thead>\n",
              "    <tr style=\"text-align: right;\">\n",
              "      <th></th>\n",
              "      <th>company_location</th>\n",
              "      <th>cocoa_percent</th>\n",
              "      <th>rating</th>\n",
              "    </tr>\n",
              "  </thead>\n",
              "  <tbody>\n",
              "    <tr>\n",
              "      <th>37</th>\n",
              "      <td>Scotland</td>\n",
              "      <td>72.800000</td>\n",
              "      <td>3.800000</td>\n",
              "    </tr>\n",
              "    <tr>\n",
              "      <th>5</th>\n",
              "      <td>Chile</td>\n",
              "      <td>70.000000</td>\n",
              "      <td>3.750000</td>\n",
              "    </tr>\n",
              "    <tr>\n",
              "      <th>33</th>\n",
              "      <td>Poland</td>\n",
              "      <td>73.750000</td>\n",
              "      <td>3.625000</td>\n",
              "    </tr>\n",
              "    <tr>\n",
              "      <th>48</th>\n",
              "      <td>Vietnam</td>\n",
              "      <td>74.500000</td>\n",
              "      <td>3.500000</td>\n",
              "    </tr>\n",
              "    <tr>\n",
              "      <th>32</th>\n",
              "      <td>Philippines</td>\n",
              "      <td>65.000000</td>\n",
              "      <td>3.500000</td>\n",
              "    </tr>\n",
              "    <tr>\n",
              "      <th>29</th>\n",
              "      <td>Netherlands</td>\n",
              "      <td>73.250000</td>\n",
              "      <td>3.500000</td>\n",
              "    </tr>\n",
              "    <tr>\n",
              "      <th>2</th>\n",
              "      <td>Belgium</td>\n",
              "      <td>71.500000</td>\n",
              "      <td>3.475000</td>\n",
              "    </tr>\n",
              "    <tr>\n",
              "      <th>11</th>\n",
              "      <td>Ecuador</td>\n",
              "      <td>70.363636</td>\n",
              "      <td>3.431818</td>\n",
              "    </tr>\n",
              "    <tr>\n",
              "      <th>18</th>\n",
              "      <td>Hungary</td>\n",
              "      <td>71.636364</td>\n",
              "      <td>3.431818</td>\n",
              "    </tr>\n",
              "    <tr>\n",
              "      <th>19</th>\n",
              "      <td>Iceland</td>\n",
              "      <td>68.666667</td>\n",
              "      <td>3.416667</td>\n",
              "    </tr>\n",
              "  </tbody>\n",
              "</table>\n",
              "</div>"
            ],
            "text/plain": [
              "   company_location  cocoa_percent    rating\n",
              "37         Scotland      72.800000  3.800000\n",
              "5             Chile      70.000000  3.750000\n",
              "33           Poland      73.750000  3.625000\n",
              "48          Vietnam      74.500000  3.500000\n",
              "32      Philippines      65.000000  3.500000\n",
              "29      Netherlands      73.250000  3.500000\n",
              "2           Belgium      71.500000  3.475000\n",
              "11          Ecuador      70.363636  3.431818\n",
              "18          Hungary      71.636364  3.431818\n",
              "19          Iceland      68.666667  3.416667"
            ]
          },
          "metadata": {
            "tags": []
          },
          "execution_count": 263
        }
      ]
    },
    {
      "cell_type": "code",
      "metadata": {
        "id": "UZxzq9hjcbCp",
        "colab_type": "code",
        "outputId": "050a1144-6fcd-497a-9a2e-e4f2d0b38995",
        "colab": {
          "base_uri": "https://localhost:8080/",
          "height": 359
        }
      },
      "source": [
        "com_loca_cocoa_percent = worst_period[['company_location', 'cocoa_percent', 'rating']].groupby('company_location').mean()\n",
        "com_loca_cocoa_percent.reset_index(drop=False, inplace=True);\n",
        "com_loca_cocoa_percent.sort_values(by = ['rating'],ascending =False).head(10)"
      ],
      "execution_count": 0,
      "outputs": [
        {
          "output_type": "execute_result",
          "data": {
            "text/html": [
              "<div>\n",
              "<style scoped>\n",
              "    .dataframe tbody tr th:only-of-type {\n",
              "        vertical-align: middle;\n",
              "    }\n",
              "\n",
              "    .dataframe tbody tr th {\n",
              "        vertical-align: top;\n",
              "    }\n",
              "\n",
              "    .dataframe thead th {\n",
              "        text-align: right;\n",
              "    }\n",
              "</style>\n",
              "<table border=\"1\" class=\"dataframe\">\n",
              "  <thead>\n",
              "    <tr style=\"text-align: right;\">\n",
              "      <th></th>\n",
              "      <th>company_location</th>\n",
              "      <th>cocoa_percent</th>\n",
              "      <th>rating</th>\n",
              "    </tr>\n",
              "  </thead>\n",
              "  <tbody>\n",
              "    <tr>\n",
              "      <th>12</th>\n",
              "      <td>Italy</td>\n",
              "      <td>69.555556</td>\n",
              "      <td>3.493056</td>\n",
              "    </tr>\n",
              "    <tr>\n",
              "      <th>0</th>\n",
              "      <td>Argentina</td>\n",
              "      <td>73.750000</td>\n",
              "      <td>3.312500</td>\n",
              "    </tr>\n",
              "    <tr>\n",
              "      <th>13</th>\n",
              "      <td>Madagascar</td>\n",
              "      <td>71.083333</td>\n",
              "      <td>3.208333</td>\n",
              "    </tr>\n",
              "    <tr>\n",
              "      <th>8</th>\n",
              "      <td>Germany</td>\n",
              "      <td>70.222222</td>\n",
              "      <td>3.194444</td>\n",
              "    </tr>\n",
              "    <tr>\n",
              "      <th>7</th>\n",
              "      <td>France</td>\n",
              "      <td>72.930556</td>\n",
              "      <td>3.184028</td>\n",
              "    </tr>\n",
              "    <tr>\n",
              "      <th>3</th>\n",
              "      <td>Canada</td>\n",
              "      <td>71.818182</td>\n",
              "      <td>3.159091</td>\n",
              "    </tr>\n",
              "    <tr>\n",
              "      <th>11</th>\n",
              "      <td>Israel</td>\n",
              "      <td>71.250000</td>\n",
              "      <td>3.125000</td>\n",
              "    </tr>\n",
              "    <tr>\n",
              "      <th>10</th>\n",
              "      <td>Guatemala</td>\n",
              "      <td>67.500000</td>\n",
              "      <td>3.125000</td>\n",
              "    </tr>\n",
              "    <tr>\n",
              "      <th>16</th>\n",
              "      <td>Spain</td>\n",
              "      <td>72.307692</td>\n",
              "      <td>3.096154</td>\n",
              "    </tr>\n",
              "    <tr>\n",
              "      <th>17</th>\n",
              "      <td>Switzerland</td>\n",
              "      <td>70.300000</td>\n",
              "      <td>3.075000</td>\n",
              "    </tr>\n",
              "  </tbody>\n",
              "</table>\n",
              "</div>"
            ],
            "text/plain": [
              "   company_location  cocoa_percent    rating\n",
              "12            Italy      69.555556  3.493056\n",
              "0         Argentina      73.750000  3.312500\n",
              "13       Madagascar      71.083333  3.208333\n",
              "8           Germany      70.222222  3.194444\n",
              "7            France      72.930556  3.184028\n",
              "3            Canada      71.818182  3.159091\n",
              "11           Israel      71.250000  3.125000\n",
              "10        Guatemala      67.500000  3.125000\n",
              "16            Spain      72.307692  3.096154\n",
              "17      Switzerland      70.300000  3.075000"
            ]
          },
          "metadata": {
            "tags": []
          },
          "execution_count": 264
        }
      ]
    },
    {
      "cell_type": "markdown",
      "metadata": {
        "id": "B304aT5rPtNB",
        "colab_type": "text"
      },
      "source": [
        "#### Top 10 Company in perfect period"
      ]
    },
    {
      "cell_type": "code",
      "metadata": {
        "id": "LkGg4j_YPxPQ",
        "colab_type": "code",
        "colab": {}
      },
      "source": [
        "def n_most_company(n, df):\n",
        "  length = df.shape[0]\n",
        "  df['count'] = np.ones(length)\n",
        "  most_company = df.groupby('company').sum().sort_values(by = 'count', ascending=False)\n",
        "  return most_company.head(n).index"
      ],
      "execution_count": 0,
      "outputs": []
    },
    {
      "cell_type": "code",
      "metadata": {
        "id": "jQ9DjMNHPyqh",
        "colab_type": "code",
        "outputId": "29df6710-85f2-4fe4-cfa1-6679ed392c96",
        "colab": {
          "base_uri": "https://localhost:8080/",
          "height": 119
        }
      },
      "source": [
        "ten_most_company = n_most_company(10, perfect_period)"
      ],
      "execution_count": 0,
      "outputs": [
        {
          "output_type": "stream",
          "text": [
            "/usr/local/lib/python3.6/dist-packages/ipykernel_launcher.py:3: SettingWithCopyWarning: \n",
            "A value is trying to be set on a copy of a slice from a DataFrame.\n",
            "Try using .loc[row_indexer,col_indexer] = value instead\n",
            "\n",
            "See the caveats in the documentation: http://pandas.pydata.org/pandas-docs/stable/indexing.html#indexing-view-versus-copy\n",
            "  This is separate from the ipykernel package so we can avoid doing imports until\n"
          ],
          "name": "stderr"
        }
      ]
    },
    {
      "cell_type": "code",
      "metadata": {
        "id": "JiQjov_SP0uo",
        "colab_type": "code",
        "colab": {}
      },
      "source": [
        "def is_top_10_company(x):\n",
        "  if x in ten_most_company:\n",
        "    return True\n",
        "  else:\n",
        "    return False"
      ],
      "execution_count": 0,
      "outputs": []
    },
    {
      "cell_type": "code",
      "metadata": {
        "id": "UpSdLECMP3AE",
        "colab_type": "code",
        "colab": {}
      },
      "source": [
        "top_10_company = perfect_period[perfect_period['company'].apply(is_top_10_company)]"
      ],
      "execution_count": 0,
      "outputs": []
    },
    {
      "cell_type": "code",
      "metadata": {
        "id": "2EIbq92bP6sV",
        "colab_type": "code",
        "outputId": "e3e6b04c-0221-4415-877d-fce869443a7d",
        "colab": {
          "base_uri": "https://localhost:8080/",
          "height": 119
        }
      },
      "source": [
        "ten_most_company_1 = n_most_company(10, worst_period)"
      ],
      "execution_count": 0,
      "outputs": [
        {
          "output_type": "stream",
          "text": [
            "/usr/local/lib/python3.6/dist-packages/ipykernel_launcher.py:3: SettingWithCopyWarning: \n",
            "A value is trying to be set on a copy of a slice from a DataFrame.\n",
            "Try using .loc[row_indexer,col_indexer] = value instead\n",
            "\n",
            "See the caveats in the documentation: http://pandas.pydata.org/pandas-docs/stable/indexing.html#indexing-view-versus-copy\n",
            "  This is separate from the ipykernel package so we can avoid doing imports until\n"
          ],
          "name": "stderr"
        }
      ]
    },
    {
      "cell_type": "code",
      "metadata": {
        "id": "V8lmoDJFP9D-",
        "colab_type": "code",
        "colab": {}
      },
      "source": [
        "def is_top_10_company_1(x):\n",
        "  if x in ten_most_company_1:\n",
        "    return True\n",
        "  else:\n",
        "    return False"
      ],
      "execution_count": 0,
      "outputs": []
    },
    {
      "cell_type": "code",
      "metadata": {
        "id": "PRr0gzloP-5U",
        "colab_type": "code",
        "colab": {}
      },
      "source": [
        "top_10_company_1 = worst_period[worst_period['company'].apply(is_top_10_company_1)]"
      ],
      "execution_count": 0,
      "outputs": []
    },
    {
      "cell_type": "code",
      "metadata": {
        "id": "Dr88luyLQA_s",
        "colab_type": "code",
        "outputId": "cb88b2f2-0afb-4dc4-8c39-2faf871f50a4",
        "colab": {
          "base_uri": "https://localhost:8080/",
          "height": 34
        }
      },
      "source": [
        "top_10_company_1['review_date'].unique()"
      ],
      "execution_count": 0,
      "outputs": [
        {
          "output_type": "execute_result",
          "data": {
            "text/plain": [
              "array([2007, 2006, 2009, 2008])"
            ]
          },
          "metadata": {
            "tags": []
          },
          "execution_count": 272
        }
      ]
    },
    {
      "cell_type": "code",
      "metadata": {
        "id": "gB6rArLtQBpa",
        "colab_type": "code",
        "outputId": "50ce9bd4-52b1-4a78-b5f7-3c7d6fb2fd53",
        "colab": {
          "base_uri": "https://localhost:8080/",
          "height": 839
        }
      },
      "source": [
        "fig = plt.figure(figsize=(15,14))\n",
        "fig.add_subplot(211)   #top left\n",
        "ax = sns.countplot(x=\"company\", data = top_10_company)\n",
        "plt.title('Top 10 company in perfect period')\n",
        "\n",
        "title = fig.add_subplot(212)   #top left\n",
        "ax = sns.countplot(x=\"company\", data = top_10_company_1)\n",
        "title = plt.title('Top 10 company in worst period')\n",
        "## We easily realize that the last company in perfect period is than better than the first company in worst period\n",
        "## Soma is the best company to produce chocolate bar\n",
        "## Top 10 in two period is completely different"
      ],
      "execution_count": 0,
      "outputs": [
        {
          "output_type": "display_data",
          "data": {
            "image/png": "[encoded data removed]",
            "text/plain": [
              "<Figure size 1080x1008 with 2 Axes>"
            ]
          },
          "metadata": {
            "tags": []
          }
        }
      ]
    },
    {
      "cell_type": "markdown",
      "metadata": {
        "id": "YGy7JmpOQG0M",
        "colab_type": "text"
      },
      "source": [
        "#### Top 10 location company in perfect period "
      ]
    },
    {
      "cell_type": "code",
      "metadata": {
        "id": "6Z_2BP2LQEkU",
        "colab_type": "code",
        "colab": {}
      },
      "source": [
        "def n_most_company_location(n, df):\n",
        "  length = df.shape[0]\n",
        "  df['count'] = np.ones(length)\n",
        "  most_company = df.groupby('company_location').sum().sort_values(by = 'count', ascending=False)\n",
        "  return most_company.head(n).index"
      ],
      "execution_count": 0,
      "outputs": []
    },
    {
      "cell_type": "code",
      "metadata": {
        "id": "rrjHYTeuQL3s",
        "colab_type": "code",
        "outputId": "d70e9a0a-d02c-43cb-cf14-1d8241e0446e",
        "colab": {
          "base_uri": "https://localhost:8080/",
          "height": 119
        }
      },
      "source": [
        "ten_most_company_location = n_most_company_location(10, perfect_period)"
      ],
      "execution_count": 0,
      "outputs": [
        {
          "output_type": "stream",
          "text": [
            "/usr/local/lib/python3.6/dist-packages/ipykernel_launcher.py:3: SettingWithCopyWarning: \n",
            "A value is trying to be set on a copy of a slice from a DataFrame.\n",
            "Try using .loc[row_indexer,col_indexer] = value instead\n",
            "\n",
            "See the caveats in the documentation: http://pandas.pydata.org/pandas-docs/stable/indexing.html#indexing-view-versus-copy\n",
            "  This is separate from the ipykernel package so we can avoid doing imports until\n"
          ],
          "name": "stderr"
        }
      ]
    },
    {
      "cell_type": "code",
      "metadata": {
        "id": "wByutakFQN4A",
        "colab_type": "code",
        "colab": {}
      },
      "source": [
        "def is_top_10_company_location(x):\n",
        "  if x in ten_most_company_location:\n",
        "    return True\n",
        "  else:\n",
        "    return False"
      ],
      "execution_count": 0,
      "outputs": []
    },
    {
      "cell_type": "code",
      "metadata": {
        "id": "zMQW7cUGQPuj",
        "colab_type": "code",
        "colab": {}
      },
      "source": [
        "top_10_company_location = perfect_period[perfect_period['company_location'].apply(is_top_10_company_location)]"
      ],
      "execution_count": 0,
      "outputs": []
    },
    {
      "cell_type": "code",
      "metadata": {
        "id": "cmWstpWEQRcn",
        "colab_type": "code",
        "outputId": "18a9fa04-a273-4767-923a-d597781dad7e",
        "colab": {
          "base_uri": "https://localhost:8080/",
          "height": 119
        }
      },
      "source": [
        "ten_most_company_location_1 = n_most_company_location(10, worst_period)"
      ],
      "execution_count": 0,
      "outputs": [
        {
          "output_type": "stream",
          "text": [
            "/usr/local/lib/python3.6/dist-packages/ipykernel_launcher.py:3: SettingWithCopyWarning: \n",
            "A value is trying to be set on a copy of a slice from a DataFrame.\n",
            "Try using .loc[row_indexer,col_indexer] = value instead\n",
            "\n",
            "See the caveats in the documentation: http://pandas.pydata.org/pandas-docs/stable/indexing.html#indexing-view-versus-copy\n",
            "  This is separate from the ipykernel package so we can avoid doing imports until\n"
          ],
          "name": "stderr"
        }
      ]
    },
    {
      "cell_type": "code",
      "metadata": {
        "id": "RL8uj5KzQTG-",
        "colab_type": "code",
        "outputId": "1c900725-1c1d-4b87-e7a9-05e455f3a4e4",
        "colab": {
          "base_uri": "https://localhost:8080/",
          "height": 68
        }
      },
      "source": [
        "ten_most_company_location_1"
      ],
      "execution_count": 0,
      "outputs": [
        {
          "output_type": "execute_result",
          "data": {
            "text/plain": [
              "Index(['U.S.A.', 'France', 'Ecuador', 'Italy', 'Belgium', 'England', 'Spain',\n",
              "       'Madagascar', 'Canada', 'Switzerland'],\n",
              "      dtype='object', name='company_location')"
            ]
          },
          "metadata": {
            "tags": []
          },
          "execution_count": 279
        }
      ]
    },
    {
      "cell_type": "code",
      "metadata": {
        "id": "L55yHL4uQU26",
        "colab_type": "code",
        "colab": {}
      },
      "source": [
        "def is_top_10_company_location_1(x):\n",
        "  if x in ten_most_company_location_1:\n",
        "    return True\n",
        "  else:\n",
        "    return False"
      ],
      "execution_count": 0,
      "outputs": []
    },
    {
      "cell_type": "code",
      "metadata": {
        "id": "PHB7fwZ4QXf2",
        "colab_type": "code",
        "colab": {}
      },
      "source": [
        "top_10_company_location_1 = worst_period[worst_period['company_location'].apply(is_top_10_company_location_1)]"
      ],
      "execution_count": 0,
      "outputs": []
    },
    {
      "cell_type": "code",
      "metadata": {
        "id": "JAcYJTrMQZvh",
        "colab_type": "code",
        "outputId": "d2daa8ad-f4c0-4b59-a29c-6980e36e72fe",
        "colab": {
          "base_uri": "https://localhost:8080/",
          "height": 840
        }
      },
      "source": [
        "fig = plt.figure(figsize=(15,14))\n",
        "fig.add_subplot(211)   #top left\n",
        "ax = sns.countplot(x=\"company_location\", data = top_10_company_location)\n",
        "plt.title('Top 10 company in perfect period')\n",
        "\n",
        "title = fig.add_subplot(212)   #top left\n",
        "ax = sns.countplot(x=\"company_location\", data = top_10_company_location_1)\n",
        "title = plt.hist('Top 10 company in worst period')\n",
        "\n",
        "# No matter time, U.S.A is the best location company "
      ],
      "execution_count": 0,
      "outputs": [
        {
          "output_type": "display_data",
          "data": {
            "image/png": "[encoded data removed]",
            "text/plain": [
              "<Figure size 1080x1008 with 2 Axes>"
            ]
          },
          "metadata": {
            "tags": []
          }
        }
      ]
    },
    {
      "cell_type": "code",
      "metadata": {
        "id": "Ok_ZNdIqXW2M",
        "colab_type": "code",
        "colab": {}
      },
      "source": [
        "def is_top_10_company_location_3(x):\n",
        "  if x in ten_most_company_location and x !='U.S.A.':\n",
        "    return True\n",
        "  else:\n",
        "    return False"
      ],
      "execution_count": 0,
      "outputs": []
    },
    {
      "cell_type": "code",
      "metadata": {
        "id": "7eRiC3mb92ZG",
        "colab_type": "code",
        "colab": {}
      },
      "source": [
        "def is_top_10_company_location_4(x):\n",
        "  if x in ten_most_company_location_1 and x !='U.S.A.':\n",
        "    return True\n",
        "  else:\n",
        "    return False"
      ],
      "execution_count": 0,
      "outputs": []
    },
    {
      "cell_type": "code",
      "metadata": {
        "id": "2lslmcDJX-Ll",
        "colab_type": "code",
        "outputId": "c60bef06-716a-4de9-ae95-e4bd9378513d",
        "colab": {
          "base_uri": "https://localhost:8080/",
          "height": 119
        }
      },
      "source": [
        "ten_most_company_location_3 = n_most_company_location(10, perfect_period)"
      ],
      "execution_count": 0,
      "outputs": [
        {
          "output_type": "stream",
          "text": [
            "/usr/local/lib/python3.6/dist-packages/ipykernel_launcher.py:3: SettingWithCopyWarning: \n",
            "A value is trying to be set on a copy of a slice from a DataFrame.\n",
            "Try using .loc[row_indexer,col_indexer] = value instead\n",
            "\n",
            "See the caveats in the documentation: http://pandas.pydata.org/pandas-docs/stable/indexing.html#indexing-view-versus-copy\n",
            "  This is separate from the ipykernel package so we can avoid doing imports until\n"
          ],
          "name": "stderr"
        }
      ]
    },
    {
      "cell_type": "code",
      "metadata": {
        "id": "ulHk3SE1YINF",
        "colab_type": "code",
        "colab": {}
      },
      "source": [
        "top_10_company_location_3 = perfect_period[perfect_period['company_location'].apply(is_top_10_company_location_3)]"
      ],
      "execution_count": 0,
      "outputs": []
    },
    {
      "cell_type": "code",
      "metadata": {
        "id": "vgkl7tcHYUun",
        "colab_type": "code",
        "outputId": "7acabf66-bac0-4120-fadc-590340c53e24",
        "colab": {
          "base_uri": "https://localhost:8080/",
          "height": 119
        }
      },
      "source": [
        "ten_most_company_location_4 = n_most_company_location(10, worst_period)"
      ],
      "execution_count": 0,
      "outputs": [
        {
          "output_type": "stream",
          "text": [
            "/usr/local/lib/python3.6/dist-packages/ipykernel_launcher.py:3: SettingWithCopyWarning: \n",
            "A value is trying to be set on a copy of a slice from a DataFrame.\n",
            "Try using .loc[row_indexer,col_indexer] = value instead\n",
            "\n",
            "See the caveats in the documentation: http://pandas.pydata.org/pandas-docs/stable/indexing.html#indexing-view-versus-copy\n",
            "  This is separate from the ipykernel package so we can avoid doing imports until\n"
          ],
          "name": "stderr"
        }
      ]
    },
    {
      "cell_type": "code",
      "metadata": {
        "id": "sbmbUamNYVG2",
        "colab_type": "code",
        "colab": {}
      },
      "source": [
        "top_10_company_location_4 = perfect_period[perfect_period['company_location'].apply(is_top_10_company_location_4)]"
      ],
      "execution_count": 0,
      "outputs": []
    },
    {
      "cell_type": "code",
      "metadata": {
        "id": "c4XN1D1aYmd-",
        "colab_type": "code",
        "outputId": "d1fe696e-e4eb-4605-9870-ca21c9f3092c",
        "colab": {
          "base_uri": "https://localhost:8080/",
          "height": 840
        }
      },
      "source": [
        "fig = plt.figure(figsize=(15,14))\n",
        "fig.add_subplot(211)   #top left\n",
        "ax = sns.countplot(x=\"company_location\", data = top_10_company_location_3)\n",
        "plt.title('Top 10 company in perfect period witdout U.S.A')\n",
        "\n",
        "title = fig.add_subplot(212)   #top left\n",
        "ax = sns.countplot(x=\"company_location\", data = top_10_company_location_4)\n",
        "title = plt.title('Top 10 company in worst period without U.S.A')\n",
        "\n",
        "# No matter time, U.S.A is the best location company "
      ],
      "execution_count": 0,
      "outputs": [
        {
          "output_type": "display_data",
          "data": {
            "image/png": "[encoded data removed]",
            "text/plain": [
              "<Figure size 1080x1008 with 2 Axes>"
            ]
          },
          "metadata": {
            "tags": []
          }
        }
      ]
    },
    {
      "cell_type": "markdown",
      "metadata": {
        "id": "abbZf7O9hSdd",
        "colab_type": "text"
      },
      "source": [
        "#Bonus"
      ]
    },
    {
      "cell_type": "markdown",
      "metadata": {
        "id": "eRk7prEGiJE-",
        "colab_type": "text"
      },
      "source": [
        "##What about Vietnam ?\n"
      ]
    },
    {
      "cell_type": "markdown",
      "metadata": {
        "id": "3yGhheWJiPX1",
        "colab_type": "text"
      },
      "source": [
        "How many chocolate bars in the data that come from broad_origin = vietnam\n",
        "\n"
      ]
    },
    {
      "cell_type": "code",
      "metadata": {
        "id": "yqwwDYhzi0Or",
        "colab_type": "code",
        "colab": {}
      },
      "source": [
        "link = 'https://raw.githubusercontent.com/truongtop14/Codeshool-DataScientist/master/broad_origins.csv'"
      ],
      "execution_count": 0,
      "outputs": []
    },
    {
      "cell_type": "code",
      "metadata": {
        "id": "d0ojyXywi5BJ",
        "colab_type": "code",
        "colab": {}
      },
      "source": [
        "broad_origin = pd.read_csv(link)"
      ],
      "execution_count": 0,
      "outputs": []
    },
    {
      "cell_type": "code",
      "metadata": {
        "id": "FkmJ7mHZi9N0",
        "colab_type": "code",
        "outputId": "10c5234a-9904-4f1a-c4fa-8679baf9866d",
        "colab": {
          "base_uri": "https://localhost:8080/",
          "height": 80
        }
      },
      "source": [
        "broad_origin[broad_origin.country=='Vietnam']"
      ],
      "execution_count": 0,
      "outputs": [
        {
          "output_type": "execute_result",
          "data": {
            "text/html": [
              "<div>\n",
              "<style scoped>\n",
              "    .dataframe tbody tr th:only-of-type {\n",
              "        vertical-align: middle;\n",
              "    }\n",
              "\n",
              "    .dataframe tbody tr th {\n",
              "        vertical-align: top;\n",
              "    }\n",
              "\n",
              "    .dataframe thead th {\n",
              "        text-align: right;\n",
              "    }\n",
              "</style>\n",
              "<table border=\"1\" class=\"dataframe\">\n",
              "  <thead>\n",
              "    <tr style=\"text-align: right;\">\n",
              "      <th></th>\n",
              "      <th>country</th>\n",
              "      <th>count</th>\n",
              "    </tr>\n",
              "  </thead>\n",
              "  <tbody>\n",
              "    <tr>\n",
              "      <th>17</th>\n",
              "      <td>Vietnam</td>\n",
              "      <td>38</td>\n",
              "    </tr>\n",
              "  </tbody>\n",
              "</table>\n",
              "</div>"
            ],
            "text/plain": [
              "    country  count\n",
              "17  Vietnam     38"
            ]
          },
          "metadata": {
            "tags": []
          },
          "execution_count": 292
        }
      ]
    },
    {
      "cell_type": "code",
      "metadata": {
        "id": "2SwsW9UjjAWD",
        "colab_type": "code",
        "outputId": "d7b15e47-7476-4110-948b-694800c4822d",
        "colab": {
          "base_uri": "https://localhost:8080/",
          "height": 735
        }
      },
      "source": [
        "plt.figure(figsize=(20, 12))\n",
        "sns.countplot(x='count', data=broad_origin)"
      ],
      "execution_count": 0,
      "outputs": [
        {
          "output_type": "execute_result",
          "data": {
            "text/plain": [
              "<matplotlib.axes._subplots.AxesSubplot at 0x7f42dd225a90>"
            ]
          },
          "metadata": {
            "tags": []
          },
          "execution_count": 293
        },
        {
          "output_type": "display_data",
          "data": {
            "image/png": "[encoded data removed]",
            "text/plain": [
              "<Figure size 1440x864 with 1 Axes>"
            ]
          },
          "metadata": {
            "tags": []
          }
        }
      ]
    },
    {
      "cell_type": "markdown",
      "metadata": {
        "id": "VGX8uzfYjGLb",
        "colab_type": "text"
      },
      "source": [
        "##Rating for VNese choco bars\n"
      ]
    },
    {
      "cell_type": "code",
      "metadata": {
        "id": "EY2tCZBqn3Xk",
        "colab_type": "code",
        "colab": {}
      },
      "source": [
        "df_list_origin = df.copy();\n",
        "df_list_origin.broad_origin = broad_origins;"
      ],
      "execution_count": 0,
      "outputs": []
    },
    {
      "cell_type": "code",
      "metadata": {
        "id": "8tbXTNcLn4B0",
        "colab_type": "code",
        "colab": {}
      },
      "source": [
        "def find_vietnam(list_broad_origin):\n",
        "  if 'Vietnam' in list_broad_origin:\n",
        "    return True\n",
        "  return False\n",
        "\n",
        "\n",
        "\n",
        "df_vn = df_list_origin[df_list_origin.broad_origin.apply(find_vietnam)];\n"
      ],
      "execution_count": 0,
      "outputs": []
    },
    {
      "cell_type": "code",
      "metadata": {
        "id": "DPNI4HVin95S",
        "colab_type": "code",
        "outputId": "6f7dc21f-a48c-4e45-da69-4c5e1378f34e",
        "colab": {
          "base_uri": "https://localhost:8080/",
          "height": 204
        }
      },
      "source": [
        "df_vn.head()"
      ],
      "execution_count": 0,
      "outputs": [
        {
          "output_type": "execute_result",
          "data": {
            "text/html": [
              "<div>\n",
              "<style scoped>\n",
              "    .dataframe tbody tr th:only-of-type {\n",
              "        vertical-align: middle;\n",
              "    }\n",
              "\n",
              "    .dataframe tbody tr th {\n",
              "        vertical-align: top;\n",
              "    }\n",
              "\n",
              "    .dataframe thead th {\n",
              "        text-align: right;\n",
              "    }\n",
              "</style>\n",
              "<table border=\"1\" class=\"dataframe\">\n",
              "  <thead>\n",
              "    <tr style=\"text-align: right;\">\n",
              "      <th></th>\n",
              "      <th>company</th>\n",
              "      <th>specific_origin</th>\n",
              "      <th>REF</th>\n",
              "      <th>review_date</th>\n",
              "      <th>cocoa_percent</th>\n",
              "      <th>company_location</th>\n",
              "      <th>rating</th>\n",
              "      <th>bean_type</th>\n",
              "      <th>broad_origin</th>\n",
              "      <th>rating_class</th>\n",
              "      <th>count</th>\n",
              "    </tr>\n",
              "  </thead>\n",
              "  <tbody>\n",
              "    <tr>\n",
              "      <th>36</th>\n",
              "      <td>Alain Ducasse</td>\n",
              "      <td>Vietnam</td>\n",
              "      <td>1215</td>\n",
              "      <td>2014</td>\n",
              "      <td>75.0</td>\n",
              "      <td>France</td>\n",
              "      <td>2.75</td>\n",
              "      <td>Trinitario</td>\n",
              "      <td>[Vietnam]</td>\n",
              "      <td>disapointing</td>\n",
              "      <td>1.0</td>\n",
              "    </tr>\n",
              "    <tr>\n",
              "      <th>42</th>\n",
              "      <td>Alexandre</td>\n",
              "      <td>Tien Giang</td>\n",
              "      <td>1944</td>\n",
              "      <td>2017</td>\n",
              "      <td>70.0</td>\n",
              "      <td>Netherlands</td>\n",
              "      <td>3.50</td>\n",
              "      <td>Trinitario</td>\n",
              "      <td>[Vietnam]</td>\n",
              "      <td>satisfactory</td>\n",
              "      <td>1.0</td>\n",
              "    </tr>\n",
              "    <tr>\n",
              "      <th>101</th>\n",
              "      <td>Arete</td>\n",
              "      <td>Tien Giang</td>\n",
              "      <td>1900</td>\n",
              "      <td>2016</td>\n",
              "      <td>73.0</td>\n",
              "      <td>U.S.A.</td>\n",
              "      <td>3.50</td>\n",
              "      <td>Trinitario</td>\n",
              "      <td>[Vietnam]</td>\n",
              "      <td>satisfactory</td>\n",
              "      <td>1.0</td>\n",
              "    </tr>\n",
              "    <tr>\n",
              "      <th>111</th>\n",
              "      <td>Arete</td>\n",
              "      <td>Lam Dong</td>\n",
              "      <td>1928</td>\n",
              "      <td>2016</td>\n",
              "      <td>73.0</td>\n",
              "      <td>U.S.A.</td>\n",
              "      <td>3.25</td>\n",
              "      <td></td>\n",
              "      <td>[Vietnam]</td>\n",
              "      <td>satisfactory</td>\n",
              "      <td>1.0</td>\n",
              "    </tr>\n",
              "    <tr>\n",
              "      <th>128</th>\n",
              "      <td>Artisan du Chocolat</td>\n",
              "      <td>Ba Ria Vung Tau Province</td>\n",
              "      <td>600</td>\n",
              "      <td>2010</td>\n",
              "      <td>72.0</td>\n",
              "      <td>England</td>\n",
              "      <td>3.25</td>\n",
              "      <td>Trinitario</td>\n",
              "      <td>[Vietnam]</td>\n",
              "      <td>satisfactory</td>\n",
              "      <td>1.0</td>\n",
              "    </tr>\n",
              "  </tbody>\n",
              "</table>\n",
              "</div>"
            ],
            "text/plain": [
              "                 company           specific_origin  ...  rating_class  count\n",
              "36         Alain Ducasse                   Vietnam  ...  disapointing    1.0\n",
              "42             Alexandre                Tien Giang  ...  satisfactory    1.0\n",
              "101                Arete                Tien Giang  ...  satisfactory    1.0\n",
              "111                Arete                  Lam Dong  ...  satisfactory    1.0\n",
              "128  Artisan du Chocolat  Ba Ria Vung Tau Province  ...  satisfactory    1.0\n",
              "\n",
              "[5 rows x 11 columns]"
            ]
          },
          "metadata": {
            "tags": []
          },
          "execution_count": 296
        }
      ]
    },
    {
      "cell_type": "code",
      "metadata": {
        "id": "1eSMOSVojPbF",
        "colab_type": "code",
        "outputId": "bc3d9acd-9f0c-4171-d2ab-05443c0e491c",
        "colab": {
          "base_uri": "https://localhost:8080/",
          "height": 85
        }
      },
      "source": [
        "df.columns"
      ],
      "execution_count": 0,
      "outputs": [
        {
          "output_type": "execute_result",
          "data": {
            "text/plain": [
              "Index(['company', 'specific_origin', 'REF', 'review_date', 'cocoa_percent',\n",
              "       'company_location', 'rating', 'bean_type', 'broad_origin',\n",
              "       'rating_class', 'count'],\n",
              "      dtype='object')"
            ]
          },
          "metadata": {
            "tags": []
          },
          "execution_count": 297
        }
      ]
    },
    {
      "cell_type": "code",
      "metadata": {
        "id": "Bv3HXS2YjS3o",
        "colab_type": "code",
        "outputId": "371bc8a3-382d-46ad-9edb-70b326a3b809",
        "colab": {
          "base_uri": "https://localhost:8080/",
          "height": 204
        }
      },
      "source": [
        "df_vn = df[df.broad_origin=='Vietnam'];\n",
        "df_vn.head()"
      ],
      "execution_count": 0,
      "outputs": [
        {
          "output_type": "execute_result",
          "data": {
            "text/html": [
              "<div>\n",
              "<style scoped>\n",
              "    .dataframe tbody tr th:only-of-type {\n",
              "        vertical-align: middle;\n",
              "    }\n",
              "\n",
              "    .dataframe tbody tr th {\n",
              "        vertical-align: top;\n",
              "    }\n",
              "\n",
              "    .dataframe thead th {\n",
              "        text-align: right;\n",
              "    }\n",
              "</style>\n",
              "<table border=\"1\" class=\"dataframe\">\n",
              "  <thead>\n",
              "    <tr style=\"text-align: right;\">\n",
              "      <th></th>\n",
              "      <th>company</th>\n",
              "      <th>specific_origin</th>\n",
              "      <th>REF</th>\n",
              "      <th>review_date</th>\n",
              "      <th>cocoa_percent</th>\n",
              "      <th>company_location</th>\n",
              "      <th>rating</th>\n",
              "      <th>bean_type</th>\n",
              "      <th>broad_origin</th>\n",
              "      <th>rating_class</th>\n",
              "      <th>count</th>\n",
              "    </tr>\n",
              "  </thead>\n",
              "  <tbody>\n",
              "    <tr>\n",
              "      <th>36</th>\n",
              "      <td>Alain Ducasse</td>\n",
              "      <td>Vietnam</td>\n",
              "      <td>1215</td>\n",
              "      <td>2014</td>\n",
              "      <td>75.0</td>\n",
              "      <td>France</td>\n",
              "      <td>2.75</td>\n",
              "      <td>Trinitario</td>\n",
              "      <td>Vietnam</td>\n",
              "      <td>disapointing</td>\n",
              "      <td>1.0</td>\n",
              "    </tr>\n",
              "    <tr>\n",
              "      <th>42</th>\n",
              "      <td>Alexandre</td>\n",
              "      <td>Tien Giang</td>\n",
              "      <td>1944</td>\n",
              "      <td>2017</td>\n",
              "      <td>70.0</td>\n",
              "      <td>Netherlands</td>\n",
              "      <td>3.50</td>\n",
              "      <td>Trinitario</td>\n",
              "      <td>Vietnam</td>\n",
              "      <td>satisfactory</td>\n",
              "      <td>1.0</td>\n",
              "    </tr>\n",
              "    <tr>\n",
              "      <th>101</th>\n",
              "      <td>Arete</td>\n",
              "      <td>Tien Giang</td>\n",
              "      <td>1900</td>\n",
              "      <td>2016</td>\n",
              "      <td>73.0</td>\n",
              "      <td>U.S.A.</td>\n",
              "      <td>3.50</td>\n",
              "      <td>Trinitario</td>\n",
              "      <td>Vietnam</td>\n",
              "      <td>satisfactory</td>\n",
              "      <td>1.0</td>\n",
              "    </tr>\n",
              "    <tr>\n",
              "      <th>111</th>\n",
              "      <td>Arete</td>\n",
              "      <td>Lam Dong</td>\n",
              "      <td>1928</td>\n",
              "      <td>2016</td>\n",
              "      <td>73.0</td>\n",
              "      <td>U.S.A.</td>\n",
              "      <td>3.25</td>\n",
              "      <td></td>\n",
              "      <td>Vietnam</td>\n",
              "      <td>satisfactory</td>\n",
              "      <td>1.0</td>\n",
              "    </tr>\n",
              "    <tr>\n",
              "      <th>128</th>\n",
              "      <td>Artisan du Chocolat</td>\n",
              "      <td>Ba Ria Vung Tau Province</td>\n",
              "      <td>600</td>\n",
              "      <td>2010</td>\n",
              "      <td>72.0</td>\n",
              "      <td>England</td>\n",
              "      <td>3.25</td>\n",
              "      <td>Trinitario</td>\n",
              "      <td>Vietnam</td>\n",
              "      <td>satisfactory</td>\n",
              "      <td>1.0</td>\n",
              "    </tr>\n",
              "  </tbody>\n",
              "</table>\n",
              "</div>"
            ],
            "text/plain": [
              "                 company           specific_origin  ...  rating_class  count\n",
              "36         Alain Ducasse                   Vietnam  ...  disapointing    1.0\n",
              "42             Alexandre                Tien Giang  ...  satisfactory    1.0\n",
              "101                Arete                Tien Giang  ...  satisfactory    1.0\n",
              "111                Arete                  Lam Dong  ...  satisfactory    1.0\n",
              "128  Artisan du Chocolat  Ba Ria Vung Tau Province  ...  satisfactory    1.0\n",
              "\n",
              "[5 rows x 11 columns]"
            ]
          },
          "metadata": {
            "tags": []
          },
          "execution_count": 298
        }
      ]
    },
    {
      "cell_type": "code",
      "metadata": {
        "id": "cBZ7xopjjfzE",
        "colab_type": "code",
        "outputId": "0ad77aa5-d78f-4e01-e84f-6b2ff8767f14",
        "colab": {
          "base_uri": "https://localhost:8080/",
          "height": 221
        }
      },
      "source": [
        "df_vn.isnull().sum()"
      ],
      "execution_count": 0,
      "outputs": [
        {
          "output_type": "execute_result",
          "data": {
            "text/plain": [
              "company             0\n",
              "specific_origin     0\n",
              "REF                 0\n",
              "review_date         0\n",
              "cocoa_percent       0\n",
              "company_location    0\n",
              "rating              0\n",
              "bean_type           0\n",
              "broad_origin        0\n",
              "rating_class        0\n",
              "count               0\n",
              "dtype: int64"
            ]
          },
          "metadata": {
            "tags": []
          },
          "execution_count": 299
        }
      ]
    },
    {
      "cell_type": "code",
      "metadata": {
        "id": "3p7Xk9hYjbAO",
        "colab_type": "code",
        "outputId": "f00d8977-b6c1-4b39-c80f-9e0026b5e151",
        "colab": {
          "base_uri": "https://localhost:8080/",
          "height": 824
        }
      },
      "source": [
        "df_vn.groupby('specific_origin').count()"
      ],
      "execution_count": 0,
      "outputs": [
        {
          "output_type": "execute_result",
          "data": {
            "text/html": [
              "<div>\n",
              "<style scoped>\n",
              "    .dataframe tbody tr th:only-of-type {\n",
              "        vertical-align: middle;\n",
              "    }\n",
              "\n",
              "    .dataframe tbody tr th {\n",
              "        vertical-align: top;\n",
              "    }\n",
              "\n",
              "    .dataframe thead th {\n",
              "        text-align: right;\n",
              "    }\n",
              "</style>\n",
              "<table border=\"1\" class=\"dataframe\">\n",
              "  <thead>\n",
              "    <tr style=\"text-align: right;\">\n",
              "      <th></th>\n",
              "      <th>company</th>\n",
              "      <th>REF</th>\n",
              "      <th>review_date</th>\n",
              "      <th>cocoa_percent</th>\n",
              "      <th>company_location</th>\n",
              "      <th>rating</th>\n",
              "      <th>bean_type</th>\n",
              "      <th>broad_origin</th>\n",
              "      <th>rating_class</th>\n",
              "      <th>count</th>\n",
              "    </tr>\n",
              "    <tr>\n",
              "      <th>specific_origin</th>\n",
              "      <th></th>\n",
              "      <th></th>\n",
              "      <th></th>\n",
              "      <th></th>\n",
              "      <th></th>\n",
              "      <th></th>\n",
              "      <th></th>\n",
              "      <th></th>\n",
              "      <th></th>\n",
              "      <th></th>\n",
              "    </tr>\n",
              "  </thead>\n",
              "  <tbody>\n",
              "    <tr>\n",
              "      <th>Ba Lai</th>\n",
              "      <td>1</td>\n",
              "      <td>1</td>\n",
              "      <td>1</td>\n",
              "      <td>1</td>\n",
              "      <td>1</td>\n",
              "      <td>1</td>\n",
              "      <td>1</td>\n",
              "      <td>1</td>\n",
              "      <td>1</td>\n",
              "      <td>1</td>\n",
              "    </tr>\n",
              "    <tr>\n",
              "      <th>Ba Ria</th>\n",
              "      <td>1</td>\n",
              "      <td>1</td>\n",
              "      <td>1</td>\n",
              "      <td>1</td>\n",
              "      <td>1</td>\n",
              "      <td>1</td>\n",
              "      <td>1</td>\n",
              "      <td>1</td>\n",
              "      <td>1</td>\n",
              "      <td>1</td>\n",
              "    </tr>\n",
              "    <tr>\n",
              "      <th>Ba Ria Vung Tau Province</th>\n",
              "      <td>1</td>\n",
              "      <td>1</td>\n",
              "      <td>1</td>\n",
              "      <td>1</td>\n",
              "      <td>1</td>\n",
              "      <td>1</td>\n",
              "      <td>1</td>\n",
              "      <td>1</td>\n",
              "      <td>1</td>\n",
              "      <td>1</td>\n",
              "    </tr>\n",
              "    <tr>\n",
              "      <th>Ben Tre</th>\n",
              "      <td>4</td>\n",
              "      <td>4</td>\n",
              "      <td>4</td>\n",
              "      <td>4</td>\n",
              "      <td>4</td>\n",
              "      <td>4</td>\n",
              "      <td>4</td>\n",
              "      <td>4</td>\n",
              "      <td>4</td>\n",
              "      <td>4</td>\n",
              "    </tr>\n",
              "    <tr>\n",
              "      <th>Ben Tre, Dong Nai</th>\n",
              "      <td>1</td>\n",
              "      <td>1</td>\n",
              "      <td>1</td>\n",
              "      <td>1</td>\n",
              "      <td>1</td>\n",
              "      <td>1</td>\n",
              "      <td>1</td>\n",
              "      <td>1</td>\n",
              "      <td>1</td>\n",
              "      <td>1</td>\n",
              "    </tr>\n",
              "    <tr>\n",
              "      <th>Ben Tre, Mekong Delta</th>\n",
              "      <td>1</td>\n",
              "      <td>1</td>\n",
              "      <td>1</td>\n",
              "      <td>1</td>\n",
              "      <td>1</td>\n",
              "      <td>1</td>\n",
              "      <td>1</td>\n",
              "      <td>1</td>\n",
              "      <td>1</td>\n",
              "      <td>1</td>\n",
              "    </tr>\n",
              "    <tr>\n",
              "      <th>Ben Tre, Mekong Delta, MoCay</th>\n",
              "      <td>1</td>\n",
              "      <td>1</td>\n",
              "      <td>1</td>\n",
              "      <td>1</td>\n",
              "      <td>1</td>\n",
              "      <td>1</td>\n",
              "      <td>1</td>\n",
              "      <td>1</td>\n",
              "      <td>1</td>\n",
              "      <td>1</td>\n",
              "    </tr>\n",
              "    <tr>\n",
              "      <th>Ben Tre, Surprise Valley</th>\n",
              "      <td>1</td>\n",
              "      <td>1</td>\n",
              "      <td>1</td>\n",
              "      <td>1</td>\n",
              "      <td>1</td>\n",
              "      <td>1</td>\n",
              "      <td>1</td>\n",
              "      <td>1</td>\n",
              "      <td>1</td>\n",
              "      <td>1</td>\n",
              "    </tr>\n",
              "    <tr>\n",
              "      <th>Dak Lak, Batch 2451</th>\n",
              "      <td>1</td>\n",
              "      <td>1</td>\n",
              "      <td>1</td>\n",
              "      <td>1</td>\n",
              "      <td>1</td>\n",
              "      <td>1</td>\n",
              "      <td>1</td>\n",
              "      <td>1</td>\n",
              "      <td>1</td>\n",
              "      <td>1</td>\n",
              "    </tr>\n",
              "    <tr>\n",
              "      <th>Dong Nai</th>\n",
              "      <td>1</td>\n",
              "      <td>1</td>\n",
              "      <td>1</td>\n",
              "      <td>1</td>\n",
              "      <td>1</td>\n",
              "      <td>1</td>\n",
              "      <td>1</td>\n",
              "      <td>1</td>\n",
              "      <td>1</td>\n",
              "      <td>1</td>\n",
              "    </tr>\n",
              "    <tr>\n",
              "      <th>Ham Luong</th>\n",
              "      <td>1</td>\n",
              "      <td>1</td>\n",
              "      <td>1</td>\n",
              "      <td>1</td>\n",
              "      <td>1</td>\n",
              "      <td>1</td>\n",
              "      <td>1</td>\n",
              "      <td>1</td>\n",
              "      <td>1</td>\n",
              "      <td>1</td>\n",
              "    </tr>\n",
              "    <tr>\n",
              "      <th>Lam Dong</th>\n",
              "      <td>4</td>\n",
              "      <td>4</td>\n",
              "      <td>4</td>\n",
              "      <td>4</td>\n",
              "      <td>4</td>\n",
              "      <td>4</td>\n",
              "      <td>4</td>\n",
              "      <td>4</td>\n",
              "      <td>4</td>\n",
              "      <td>4</td>\n",
              "    </tr>\n",
              "    <tr>\n",
              "      <th>Lam Dong, Batch 153</th>\n",
              "      <td>1</td>\n",
              "      <td>1</td>\n",
              "      <td>1</td>\n",
              "      <td>1</td>\n",
              "      <td>1</td>\n",
              "      <td>1</td>\n",
              "      <td>1</td>\n",
              "      <td>1</td>\n",
              "      <td>1</td>\n",
              "      <td>1</td>\n",
              "    </tr>\n",
              "    <tr>\n",
              "      <th>Mekong Delta &amp; Dong Nai</th>\n",
              "      <td>1</td>\n",
              "      <td>1</td>\n",
              "      <td>1</td>\n",
              "      <td>1</td>\n",
              "      <td>1</td>\n",
              "      <td>1</td>\n",
              "      <td>1</td>\n",
              "      <td>1</td>\n",
              "      <td>1</td>\n",
              "      <td>1</td>\n",
              "    </tr>\n",
              "    <tr>\n",
              "      <th>Mekong Delta, early 2014 Harvest</th>\n",
              "      <td>1</td>\n",
              "      <td>1</td>\n",
              "      <td>1</td>\n",
              "      <td>1</td>\n",
              "      <td>1</td>\n",
              "      <td>1</td>\n",
              "      <td>1</td>\n",
              "      <td>1</td>\n",
              "      <td>1</td>\n",
              "      <td>1</td>\n",
              "    </tr>\n",
              "    <tr>\n",
              "      <th>Tan Phu Dong Island, Heart of Darkness</th>\n",
              "      <td>1</td>\n",
              "      <td>1</td>\n",
              "      <td>1</td>\n",
              "      <td>1</td>\n",
              "      <td>1</td>\n",
              "      <td>1</td>\n",
              "      <td>1</td>\n",
              "      <td>1</td>\n",
              "      <td>1</td>\n",
              "      <td>1</td>\n",
              "    </tr>\n",
              "    <tr>\n",
              "      <th>Tan Phu Dong, Treasure Island</th>\n",
              "      <td>1</td>\n",
              "      <td>1</td>\n",
              "      <td>1</td>\n",
              "      <td>1</td>\n",
              "      <td>1</td>\n",
              "      <td>1</td>\n",
              "      <td>1</td>\n",
              "      <td>1</td>\n",
              "      <td>1</td>\n",
              "      <td>1</td>\n",
              "    </tr>\n",
              "    <tr>\n",
              "      <th>Tien Giang</th>\n",
              "      <td>5</td>\n",
              "      <td>5</td>\n",
              "      <td>5</td>\n",
              "      <td>5</td>\n",
              "      <td>5</td>\n",
              "      <td>5</td>\n",
              "      <td>5</td>\n",
              "      <td>5</td>\n",
              "      <td>5</td>\n",
              "      <td>5</td>\n",
              "    </tr>\n",
              "    <tr>\n",
              "      <th>Tien Giang, 2015, batch 10-2-16</th>\n",
              "      <td>1</td>\n",
              "      <td>1</td>\n",
              "      <td>1</td>\n",
              "      <td>1</td>\n",
              "      <td>1</td>\n",
              "      <td>1</td>\n",
              "      <td>1</td>\n",
              "      <td>1</td>\n",
              "      <td>1</td>\n",
              "      <td>1</td>\n",
              "    </tr>\n",
              "    <tr>\n",
              "      <th>Tien Giang, Black S., batch VIT60420.0</th>\n",
              "      <td>1</td>\n",
              "      <td>1</td>\n",
              "      <td>1</td>\n",
              "      <td>1</td>\n",
              "      <td>1</td>\n",
              "      <td>1</td>\n",
              "      <td>1</td>\n",
              "      <td>1</td>\n",
              "      <td>1</td>\n",
              "      <td>1</td>\n",
              "    </tr>\n",
              "    <tr>\n",
              "      <th>Tien Giang, Gao Co-op</th>\n",
              "      <td>1</td>\n",
              "      <td>1</td>\n",
              "      <td>1</td>\n",
              "      <td>1</td>\n",
              "      <td>1</td>\n",
              "      <td>1</td>\n",
              "      <td>1</td>\n",
              "      <td>1</td>\n",
              "      <td>1</td>\n",
              "      <td>1</td>\n",
              "    </tr>\n",
              "    <tr>\n",
              "      <th>Tien Giang, batch 1 SRB</th>\n",
              "      <td>1</td>\n",
              "      <td>1</td>\n",
              "      <td>1</td>\n",
              "      <td>1</td>\n",
              "      <td>1</td>\n",
              "      <td>1</td>\n",
              "      <td>1</td>\n",
              "      <td>1</td>\n",
              "      <td>1</td>\n",
              "      <td>1</td>\n",
              "    </tr>\n",
              "    <tr>\n",
              "      <th>Vietnam</th>\n",
              "      <td>5</td>\n",
              "      <td>5</td>\n",
              "      <td>5</td>\n",
              "      <td>5</td>\n",
              "      <td>5</td>\n",
              "      <td>5</td>\n",
              "      <td>5</td>\n",
              "      <td>5</td>\n",
              "      <td>5</td>\n",
              "      <td>5</td>\n",
              "    </tr>\n",
              "    <tr>\n",
              "      <th>Vietnam, Batch 50/100</th>\n",
              "      <td>1</td>\n",
              "      <td>1</td>\n",
              "      <td>1</td>\n",
              "      <td>1</td>\n",
              "      <td>1</td>\n",
              "      <td>1</td>\n",
              "      <td>1</td>\n",
              "      <td>1</td>\n",
              "      <td>1</td>\n",
              "      <td>1</td>\n",
              "    </tr>\n",
              "  </tbody>\n",
              "</table>\n",
              "</div>"
            ],
            "text/plain": [
              "                                        company  REF  ...  rating_class  count\n",
              "specific_origin                                       ...                     \n",
              "Ba Lai                                        1    1  ...             1      1\n",
              "Ba Ria                                        1    1  ...             1      1\n",
              "Ba Ria Vung Tau Province                      1    1  ...             1      1\n",
              "Ben Tre                                       4    4  ...             4      4\n",
              "Ben Tre, Dong Nai                             1    1  ...             1      1\n",
              "Ben Tre, Mekong Delta                         1    1  ...             1      1\n",
              "Ben Tre, Mekong Delta, MoCay                  1    1  ...             1      1\n",
              "Ben Tre, Surprise Valley                      1    1  ...             1      1\n",
              "Dak Lak, Batch 2451                           1    1  ...             1      1\n",
              "Dong Nai                                      1    1  ...             1      1\n",
              "Ham Luong                                     1    1  ...             1      1\n",
              "Lam Dong                                      4    4  ...             4      4\n",
              "Lam Dong, Batch 153                           1    1  ...             1      1\n",
              "Mekong Delta & Dong Nai                       1    1  ...             1      1\n",
              "Mekong Delta, early 2014 Harvest              1    1  ...             1      1\n",
              "Tan Phu Dong Island, Heart of Darkness        1    1  ...             1      1\n",
              "Tan Phu Dong, Treasure Island                 1    1  ...             1      1\n",
              "Tien Giang                                    5    5  ...             5      5\n",
              "Tien Giang, 2015, batch 10-2-16               1    1  ...             1      1\n",
              "Tien Giang, Black S., batch VIT60420.0        1    1  ...             1      1\n",
              "Tien Giang, Gao Co-op                         1    1  ...             1      1\n",
              "Tien Giang, batch 1 SRB                       1    1  ...             1      1\n",
              "Vietnam                                       5    5  ...             5      5\n",
              "Vietnam, Batch 50/100                         1    1  ...             1      1\n",
              "\n",
              "[24 rows x 10 columns]"
            ]
          },
          "metadata": {
            "tags": []
          },
          "execution_count": 300
        }
      ]
    },
    {
      "cell_type": "markdown",
      "metadata": {
        "id": "T3Lt1J7EjpBx",
        "colab_type": "text"
      },
      "source": [
        "How many bean types does VN have?\n",
        "\n"
      ]
    },
    {
      "cell_type": "code",
      "metadata": {
        "id": "4-7Mx-_PjkqP",
        "colab_type": "code",
        "outputId": "c7f82da5-30e1-471f-f957-0a1f262a6c34",
        "colab": {
          "base_uri": "https://localhost:8080/",
          "height": 34
        }
      },
      "source": [
        "df_vn.bean_type.unique()"
      ],
      "execution_count": 0,
      "outputs": [
        {
          "output_type": "execute_result",
          "data": {
            "text/plain": [
              "array(['Trinitario', ''], dtype=object)"
            ]
          },
          "metadata": {
            "tags": []
          },
          "execution_count": 301
        }
      ]
    },
    {
      "cell_type": "code",
      "metadata": {
        "id": "Z7vQSPrDjwBR",
        "colab_type": "code",
        "colab": {}
      },
      "source": [
        "import re\n",
        "vn_spec_origin = []\n",
        "skip_list = ['Vietnam', 'early 2014 Harvest', '2015', '^((B|b)atch)']\n",
        "re_split = r\"(\\,\\s|\\s\\&\\s)\"\n",
        "for list_place in df_vn.specific_origin.apply(lambda x: re.split(re_split, x)).values:\n",
        "  #print(list_place)\n",
        "  for place in list_place:\n",
        "    flag = True\n",
        "    #print(place)\n",
        "    for sl in skip_list:\n",
        "      if re.match(sl, place):\n",
        "        #print('skip_list: ' + place + ' ==> ' + sl)\n",
        "        flag = False\n",
        "        break\n",
        "    if flag:  \n",
        "      vn_spec_origin.append(place)"
      ],
      "execution_count": 0,
      "outputs": []
    },
    {
      "cell_type": "code",
      "metadata": {
        "id": "e6i90Ssmj1r0",
        "colab_type": "code",
        "colab": {}
      },
      "source": [
        "for s in vn_spec_origin:\n",
        "  if s == ', ':\n",
        "    vn_spec_origin.remove(s)\n",
        "vn_spec_origin.remove(' & ')"
      ],
      "execution_count": 0,
      "outputs": []
    },
    {
      "cell_type": "markdown",
      "metadata": {
        "id": "J1ab16rkn3KE",
        "colab_type": "text"
      },
      "source": [
        "#Dashboard\n",
        "[Google studio report](https://datastudio.google.com/open/10sOcznISznpPOziNiAKPRA-r14cTMN9h)"
      ]
    },
    {
      "cell_type": "markdown",
      "metadata": {
        "id": "FoXjrdcUVFa5",
        "colab_type": "text"
      },
      "source": [
        "# Summary"
      ]
    },
    {
      "cell_type": "code",
      "metadata": {
        "id": "1QJjNjkbVHNt",
        "colab_type": "code",
        "colab": {}
      },
      "source": [
        ""
      ],
      "execution_count": 0,
      "outputs": []
    }
  ]
}